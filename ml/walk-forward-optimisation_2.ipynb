{
 "cells": [
  {
   "cell_type": "code",
   "execution_count": 34,
   "id": "76a6ddaa",
   "metadata": {},
   "outputs": [],
   "source": [
    "# Dataframe manipulation\n",
    "import pandas as pd\n",
    "# Linear algebra\n",
    "import numpy as np\n",
    "# Data visualization with plotnine\n",
    "#from plotnine import *\n",
    "#import plotnine\n",
    "# Autocorrelation\n",
    "import matplotlib.pyplot as plt\n",
    "import statsmodels.api as sm\n",
    "# Table styling\n",
    "import seaborn as sns\n",
    "cm = sns.light_palette('green', as_cmap = True)\n",
    "# Cross validation and data partitioning\n",
    "from sklearn.model_selection import cross_val_score\n",
    "from sklearn.model_selection import train_test_split\n",
    "from sklearn.model_selection import TimeSeriesSplit\n",
    "from sklearn.model_selection import KFold\n",
    "# Grid-search\n",
    "from sklearn.model_selection import GridSearchCV\n",
    "# Data modelling\n",
    "from sklearn.ensemble import RandomForestRegressor, RandomForestClassifier\n",
    "# Evaluation\n",
    "from sklearn.metrics import make_scorer\n",
    "from sklearn.metrics import mean_squared_error"
   ]
  },
  {
   "cell_type": "code",
   "execution_count": 68,
   "id": "ebf37b73",
   "metadata": {},
   "outputs": [],
   "source": [
    "from sklearn.multiclass import OneVsRestClassifier\n",
    "from xgboost import XGBClassifier\n",
    "from sklearn.preprocessing import MultiLabelBinarizer\n",
    "from sklearn.preprocessing import StandardScaler\n",
    "from sklearn.preprocessing import MinMaxScaler\n",
    "from sklearn.decomposition import PCA\n"
   ]
  },
  {
   "cell_type": "code",
   "execution_count": 85,
   "id": "1c8aea5a",
   "metadata": {},
   "outputs": [],
   "source": [
    "df = pd.read_csv('data/20days_supervised.csv')"
   ]
  },
  {
   "cell_type": "code",
   "execution_count": 86,
   "id": "00bdd5a9",
   "metadata": {},
   "outputs": [],
   "source": [
    "df['target'] = df['target_1']+df['target_2']*2+df['target_3']*3\n",
    "df['target'] = np.where(df['target']==3.0,0.0,df['target'])"
   ]
  },
  {
   "cell_type": "code",
   "execution_count": 87,
   "id": "25af88a6",
   "metadata": {},
   "outputs": [],
   "source": [
    "\n",
    "X = df[df.columns[~df.columns.isin(\n",
    "    ['datecol', 'target','trade_date','target_1','target_2','target_3'])]]\n",
    "y = df['target']\n"
   ]
  },
  {
   "cell_type": "code",
   "execution_count": null,
   "id": "9a8c7ad9",
   "metadata": {},
   "outputs": [],
   "source": []
  },
  {
   "cell_type": "code",
   "execution_count": 88,
   "id": "44c4424e",
   "metadata": {},
   "outputs": [],
   "source": [
    "\n",
    "# Split into training and testing data\n",
    "X_train = X.iloc[:(len(df) - 100), :]\n",
    "X_test = X.iloc[(len(df) - 100):, :]\n",
    "y_train = y.iloc[:(len(df) - 100)]\n",
    "y_test = y.iloc[(len(df) - 100):]\n"
   ]
  },
  {
   "cell_type": "code",
   "execution_count": 89,
   "id": "f98eabac",
   "metadata": {},
   "outputs": [],
   "source": [
    "scaler = MinMaxScaler(feature_range=(0, 1))\n",
    "\n",
    "\n",
    "X_scale = scaler.fit_transform(X)\n",
    "#y_scale = scaler.fit_transform(y.values.reshape(-1, 1))\n",
    "\n",
    "#PCA\n",
    "pca = PCA(n_components=0.95)\n",
    "X_scale_pca = pca.fit_transform(X_scale)\n",
    "X_scale_pca = scaler.fit_transform(X_scale_pca)"
   ]
  },
  {
   "cell_type": "code",
   "execution_count": 90,
   "id": "d888c640",
   "metadata": {},
   "outputs": [
    {
     "data": {
      "text/plain": [
       "(1943, 376)"
      ]
     },
     "execution_count": 90,
     "metadata": {},
     "output_type": "execute_result"
    }
   ],
   "source": [
    "np.shape(X_scale_pca)"
   ]
  },
  {
   "cell_type": "code",
   "execution_count": 91,
   "id": "efd8a50e",
   "metadata": {},
   "outputs": [],
   "source": [
    "# Function for non-anchored walk-forward optimization\n",
    "class NonAnchoredTimeSeriesSplit():\n",
    "    def __init__(self, n_splits):\n",
    "        self.n_splits = n_splits\n",
    "    \n",
    "    def get_n_splits(self, X, y, groups):\n",
    "        return self.n_splits\n",
    "    \n",
    "    def split(self, X, y = None, groups = None):\n",
    "        n_samples = len(X)\n",
    "        k_fold_size = n_samples // self.n_splits\n",
    "        indices = np.arange(n_samples)\n",
    "        margin = 0\n",
    "        for i in range(self.n_splits):\n",
    "            start = i * k_fold_size\n",
    "            stop = start + k_fold_size\n",
    "            mid = int(0.8 * (stop - start)) + start\n",
    "            yield indices[start: mid], indices[mid + margin: stop]\n",
    "\n"
   ]
  },
  {
   "cell_type": "code",
   "execution_count": 92,
   "id": "77e0bd1b",
   "metadata": {},
   "outputs": [
    {
     "name": "stdout",
     "output_type": "stream",
     "text": [
      "MSE: 0.395 (+/- 0.181)\n"
     ]
    }
   ],
   "source": [
    "# Fit the model\n",
    "ntscv = NonAnchoredTimeSeriesSplit(n_splits = 50)\n",
    "scores = cross_val_score(\n",
    "    estimator = XGBClassifier(),\n",
    "    X = X_pca,\n",
    "    y = y,\n",
    "    cv = ntscv\n",
    ")\n",
    "\n",
    "# Result - non-anchored walk-forward optimization\n",
    "print('MSE: {0:.3f} (+/- {1:.3f})'.format(\n",
    "    scores.mean(),\n",
    "    scores.std())\n",
    ")"
   ]
  },
  {
   "cell_type": "code",
   "execution_count": 93,
   "id": "c8b64c75",
   "metadata": {},
   "outputs": [
    {
     "data": {
      "text/plain": [
       "array([0.25 , 0.5  , 0.375, 0.375, 0.375, 0.25 , 0.375, 0.5  , 0.625,\n",
       "       0.25 , 0.375, 0.875, 0.375, 0.25 , 0.5  , 0.125, 0.75 , 0.625,\n",
       "       0.5  , 0.5  , 0.25 , 0.125, 0.75 , 0.25 , 0.375, 0.375, 0.125,\n",
       "       0.375, 0.375, 0.375, 0.5  , 0.25 , 0.625, 0.25 , 0.5  , 0.75 ,\n",
       "       0.625, 0.125, 0.25 , 0.125, 0.25 , 0.375, 0.125, 0.375, 0.5  ,\n",
       "       0.625, 0.375, 0.25 , 0.375, 0.375])"
      ]
     },
     "execution_count": 93,
     "metadata": {},
     "output_type": "execute_result"
    }
   ],
   "source": [
    "scores"
   ]
  },
  {
   "cell_type": "code",
   "execution_count": 96,
   "id": "0ff4eb88",
   "metadata": {},
   "outputs": [
    {
     "name": "stdout",
     "output_type": "stream",
     "text": [
      "MSE: 0.394 (+/- 0.075)\n"
     ]
    }
   ],
   "source": [
    "# Fit the model\n",
    "tscv = TimeSeriesSplit(n_splits = 50)\n",
    "scores = cross_val_score(\n",
    "    estimator = XGBClassifier(),\n",
    "    X = X_pca,\n",
    "    y = y,\n",
    "    cv = tscv\n",
    ")\n",
    "\n",
    "# Result - non-anchored walk-forward optimization\n",
    "print('MSE: {0:.3f} (+/- {1:.3f})'.format(\n",
    "    scores.mean(),\n",
    "    scores.std())\n",
    ")"
   ]
  },
  {
   "cell_type": "code",
   "execution_count": 97,
   "id": "09993cc4",
   "metadata": {},
   "outputs": [
    {
     "data": {
      "text/plain": [
       "array([0.34210526, 0.42105263, 0.28947368, 0.34210526, 0.23684211,\n",
       "       0.42105263, 0.5       , 0.39473684, 0.34210526, 0.34210526,\n",
       "       0.42105263, 0.31578947, 0.23684211, 0.44736842, 0.47368421,\n",
       "       0.47368421, 0.31578947, 0.47368421, 0.36842105, 0.39473684,\n",
       "       0.31578947, 0.39473684, 0.28947368, 0.34210526, 0.52631579,\n",
       "       0.42105263, 0.36842105, 0.42105263, 0.47368421, 0.44736842,\n",
       "       0.47368421, 0.23684211, 0.42105263, 0.36842105, 0.57894737,\n",
       "       0.47368421, 0.39473684, 0.44736842, 0.52631579, 0.34210526,\n",
       "       0.36842105, 0.36842105, 0.44736842, 0.34210526, 0.36842105,\n",
       "       0.39473684, 0.39473684, 0.47368421, 0.39473684, 0.31578947])"
      ]
     },
     "execution_count": 97,
     "metadata": {},
     "output_type": "execute_result"
    }
   ],
   "source": [
    "scores"
   ]
  },
  {
   "cell_type": "code",
   "execution_count": 98,
   "id": "57769705",
   "metadata": {},
   "outputs": [
    {
     "name": "stdout",
     "output_type": "stream",
     "text": [
      "MSE: 0.443 (+/- 0.085)\n"
     ]
    }
   ],
   "source": [
    "# Fit the model\n",
    "tscv = TimeSeriesSplit(n_splits = 50)\n",
    "scores = cross_val_score(\n",
    "    estimator = XGBClassifier(),\n",
    "    X = X,\n",
    "    y = y,\n",
    "    cv = tscv\n",
    ")\n",
    "\n",
    "# Result - non-anchored walk-forward optimization\n",
    "print('MSE: {0:.3f} (+/- {1:.3f})'.format(\n",
    "    scores.mean(),\n",
    "    scores.std())\n",
    ")"
   ]
  },
  {
   "cell_type": "code",
   "execution_count": null,
   "id": "cdc5fdde",
   "metadata": {},
   "outputs": [],
   "source": []
  },
  {
   "cell_type": "code",
   "execution_count": 57,
   "id": "c601bacb",
   "metadata": {},
   "outputs": [],
   "source": []
  },
  {
   "cell_type": "code",
   "execution_count": null,
   "id": "ec4584ad",
   "metadata": {},
   "outputs": [],
   "source": []
  },
  {
   "cell_type": "code",
   "execution_count": null,
   "id": "5d0cb45f",
   "metadata": {},
   "outputs": [],
   "source": []
  }
 ],
 "metadata": {
  "kernelspec": {
   "display_name": "Python 3 (ipykernel)",
   "language": "python",
   "name": "python3"
  },
  "language_info": {
   "codemirror_mode": {
    "name": "ipython",
    "version": 3
   },
   "file_extension": ".py",
   "mimetype": "text/x-python",
   "name": "python",
   "nbconvert_exporter": "python",
   "pygments_lexer": "ipython3",
   "version": "3.8.12"
  }
 },
 "nbformat": 4,
 "nbformat_minor": 5
}
