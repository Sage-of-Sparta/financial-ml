{
 "cells": [
  {
   "cell_type": "code",
   "execution_count": 3,
   "id": "5fd39947",
   "metadata": {},
   "outputs": [
    {
     "name": "stderr",
     "output_type": "stream",
     "text": [
      "C:\\Users\\Damian Joseph\\AppData\\Local\\Temp\\ipykernel_31464\\2387589379.py:18: FutureWarning: the 'access_key'' keyword is deprecated, use 'api_key' instead.\n",
      "  df = web.DataReader(symbol, data_source,begin_date, end_date, access_key='hQqbsfakqXiqavyb4SV9')\\\n",
      "C:\\Users\\Damian Joseph\\AppData\\Local\\Temp\\ipykernel_31464\\2387589379.py:18: FutureWarning: the 'access_key'' keyword is deprecated, use 'api_key' instead.\n",
      "  df = web.DataReader(symbol, data_source,begin_date, end_date, access_key='hQqbsfakqXiqavyb4SV9')\\\n",
      "C:\\Users\\Damian Joseph\\AppData\\Local\\Temp\\ipykernel_31464\\2387589379.py:18: FutureWarning: the 'access_key'' keyword is deprecated, use 'api_key' instead.\n",
      "  df = web.DataReader(symbol, data_source,begin_date, end_date, access_key='hQqbsfakqXiqavyb4SV9')\\\n",
      "C:\\Users\\Damian Joseph\\AppData\\Local\\Temp\\ipykernel_31464\\2387589379.py:18: FutureWarning: the 'access_key'' keyword is deprecated, use 'api_key' instead.\n",
      "  df = web.DataReader(symbol, data_source,begin_date, end_date, access_key='hQqbsfakqXiqavyb4SV9')\\\n",
      "C:\\Users\\Damian Joseph\\AppData\\Local\\Temp\\ipykernel_31464\\2387589379.py:18: FutureWarning: the 'access_key'' keyword is deprecated, use 'api_key' instead.\n",
      "  df = web.DataReader(symbol, data_source,begin_date, end_date, access_key='hQqbsfakqXiqavyb4SV9')\\\n"
     ]
    },
    {
     "name": "stdout",
     "output_type": "stream",
     "text": [
      "                      open      high      low    close      volume\n",
      "date       symbol                                                 \n",
      "2018-03-26 MSFT      90.61    94.000    90.40    93.78  55031149.0\n",
      "2018-03-27 AAPL     173.68   175.150   166.92   168.34  38962839.0\n",
      "           AMZN    1572.40  1575.960  1482.32  1497.05   6793279.0\n",
      "           CSCO      44.49    44.520    42.24    42.68  30088447.0\n",
      "           MSFT      94.94    95.139    88.51    89.47  53704562.0\n"
     ]
    }
   ],
   "source": [
    "## Replace this section of imports with your preferred\n",
    "## data download/access interface.  This calls a \n",
    "## proprietary set of methods (ie they won't work for you)\n",
    "\n",
    "from IPython.core.display import Image\n",
    "\n",
    "import numpy as np\n",
    "import pandas as pd\n",
    "pd.core.common.is_list_like = pd.api.types.is_list_like # remove once updated pandas-datareader issue is fixed\n",
    "# https://github.com/pydata/pandas-datareader/issues/534\n",
    "import pandas_datareader.data as web\n",
    "%matplotlib inline\n",
    "\n",
    "\n",
    "def get_symbols(symbols,data_source, begin_date=None,end_date=None):\n",
    "    out = pd.DataFrame()\n",
    "    for symbol in symbols:\n",
    "        df = web.DataReader(symbol, data_source,begin_date, end_date, access_key='hQqbsfakqXiqavyb4SV9')\\\n",
    "        [['AdjOpen','AdjHigh','AdjLow','AdjClose','AdjVolume']].reset_index()\n",
    "        \n",
    "        df.columns = ['date','open','high','low','close','volume'] #my convention: always lowercase\n",
    "        df['symbol'] = symbol # add a new column which contains the symbol so we can keep multiple symbols in the same dataframe\n",
    "        df = df.set_index(['date','symbol'])\n",
    "        out = pd.concat([out,df],axis=0) #stacks on top of previously collected data\n",
    "    return out.sort_index()\n",
    "        \n",
    "prices = get_symbols(['AAPL','CSCO','AMZN','YHOO','MSFT'],data_source='quandl',begin_date='2012-01-01',end_date=None)\n",
    "\n",
    "print(prices.sort_index().tail())"
   ]
  },
  {
   "cell_type": "code",
   "execution_count": 4,
   "id": "73fbeb22",
   "metadata": {},
   "outputs": [],
   "source": [
    "num_obs = prices.close.count()\n",
    "\n",
    "def add_memory(s,n_days=50,memory_strength=0.1):\n",
    "    ''' adds autoregressive behavior to series of data'''\n",
    "    add_ewm = lambda x: (1-memory_strength)*x + memory_strength*x.ewm(n_days).mean()\n",
    "    out = s.groupby(level='symbol').apply(add_ewm)\n",
    "    return out\n",
    "\n",
    "# generate feature data\n",
    "f01 = pd.Series(np.random.randn(num_obs),index=prices.index)\n",
    "f01 = add_memory(f01,10,0.1)\n",
    "f02 = pd.Series(np.random.randn(num_obs),index=prices.index)\n",
    "f02 = add_memory(f02,10,0.1)\n",
    "f03 = pd.Series(np.random.randn(num_obs),index=prices.index)\n",
    "f03 = add_memory(f03,10,0.1)\n",
    "f04 = pd.Series(np.random.randn(num_obs),index=prices.index)\n",
    "f04 = f04 # no memory\n",
    "\n",
    "## now, create response variable such that it is related to features\n",
    "# f01 becomes increasingly important, f02 becomes decreasingly important,\n",
    "# f03 oscillates in importance, f04 is stationary, finally a noise component is added\n",
    "\n",
    "outcome =   f01 * np.linspace(0.5,1.5,num_obs) + \\\n",
    "            f02 * np.linspace(1.5,0.5,num_obs) + \\\n",
    "            f03 * pd.Series(np.sin(2*np.pi*np.linspace(0,1,num_obs)*2)+1,index=f03.index) + \\\n",
    "            f04 + \\\n",
    "            np.random.randn(num_obs) * 3 \n",
    "outcome.name = 'outcome'"
   ]
  },
  {
   "cell_type": "code",
   "execution_count": 6,
   "id": "6a0f1bb8",
   "metadata": {},
   "outputs": [
    {
     "name": "stdout",
     "output_type": "stream",
     "text": [
      "RSQ: 0.2588942710563603\n",
      "Regression Coefficients: [0.9658428  1.02289272 0.94590309 0.99106727]\n"
     ]
    }
   ],
   "source": [
    "from sklearn.linear_model import LinearRegression\n",
    "model = LinearRegression()\n",
    "features = pd.concat([f01,f02,f03,f04],axis=1)\n",
    "features.columns = ['f01','f02','f03','f04']\n",
    "model.fit(X=features,y=outcome)\n",
    "print('RSQ: '+str(model.score(X=features,y=outcome)))\n",
    "print('Regression Coefficients: '+str(model.coef_))"
   ]
  },
  {
   "cell_type": "code",
   "execution_count": 9,
   "id": "dcefdff1",
   "metadata": {},
   "outputs": [
    {
     "name": "stderr",
     "output_type": "stream",
     "text": [
      "C:\\Users\\Damian Joseph\\AppData\\Local\\Temp\\ipykernel_31464\\1393893076.py:6: FutureWarning: The default dtype for empty Series will be 'object' instead of 'float64' in a future version. Specify a dtype explicitly to silence this warning.\n",
      "  models = pd.Series(index=recalc_dates)\n"
     ]
    },
    {
     "name": "stdout",
     "output_type": "stream",
     "text": [
      "             f01       f02       f03       f04\n",
      "symbol                                        \n",
      "AAPL   -0.256250  0.361949  1.504149 -0.178336\n",
      "AMZN   -0.290906  1.657943  0.973844 -1.241853\n",
      "CSCO   -1.782431  0.006901  1.734060 -0.090088\n",
      "MSFT   -0.147602 -0.782910 -0.244746 -0.216085\n",
      "YHOO    0.032195 -0.853457 -1.545315 -0.570299\n",
      "...          ...       ...       ...       ...\n",
      "AAPL    0.891377 -1.795623  0.217164  0.559722\n",
      "AMZN    1.382148  1.361728 -0.618762 -2.873088\n",
      "CSCO   -0.258589 -0.954993  0.661155  1.279851\n",
      "MSFT    0.161012 -0.240603  1.635416  0.757420\n",
      "YHOO   -0.274762 -0.586295 -0.713025 -0.822557\n",
      "\n",
      "[310 rows x 4 columns]\n"
     ]
    },
    {
     "ename": "KeyError",
     "evalue": "'Requested level (date) does not match index name (symbol)'",
     "output_type": "error",
     "traceback": [
      "\u001b[1;31m---------------------------------------------------------------------------\u001b[0m",
      "\u001b[1;31mKeyError\u001b[0m                                  Traceback (most recent call last)",
      "Input \u001b[1;32mIn [9]\u001b[0m, in \u001b[0;36m<cell line: 7>\u001b[1;34m()\u001b[0m\n\u001b[0;32m     12\u001b[0m model\u001b[38;5;241m.\u001b[39mfit(X_train,y_train)\n\u001b[0;32m     13\u001b[0m models\u001b[38;5;241m.\u001b[39mloc[date] \u001b[38;5;241m=\u001b[39m model\n\u001b[0;32m     16\u001b[0m \u001b[38;5;28mprint\u001b[39m(\u001b[38;5;124m\"\u001b[39m\u001b[38;5;124mTraining on the first \u001b[39m\u001b[38;5;132;01m{}\u001b[39;00m\u001b[38;5;124m records, through \u001b[39m\u001b[38;5;132;01m{}\u001b[39;00m\u001b[38;5;124m\"\u001b[39m\\\n\u001b[1;32m---> 17\u001b[0m       \u001b[38;5;241m.\u001b[39mformat(\u001b[38;5;28mlen\u001b[39m(y_train),\u001b[43my_train\u001b[49m\u001b[38;5;241;43m.\u001b[39;49m\u001b[43mindex\u001b[49m\u001b[38;5;241;43m.\u001b[39;49m\u001b[43mget_level_values\u001b[49m\u001b[43m(\u001b[49m\u001b[38;5;124;43m'\u001b[39;49m\u001b[38;5;124;43mdate\u001b[39;49m\u001b[38;5;124;43m'\u001b[39;49m\u001b[43m)\u001b[49m\u001b[38;5;241m.\u001b[39mmax()))\n",
      "File \u001b[1;32mC:\\Programs\\anaconda3\\lib\\site-packages\\pandas\\core\\indexes\\base.py:2008\u001b[0m, in \u001b[0;36mIndex._get_level_values\u001b[1;34m(self, level)\u001b[0m\n\u001b[0;32m   1972\u001b[0m \u001b[38;5;28;01mdef\u001b[39;00m \u001b[38;5;21m_get_level_values\u001b[39m(\u001b[38;5;28mself\u001b[39m, level) \u001b[38;5;241m-\u001b[39m\u001b[38;5;241m>\u001b[39m Index:\n\u001b[0;32m   1973\u001b[0m     \u001b[38;5;124;03m\"\"\"\u001b[39;00m\n\u001b[0;32m   1974\u001b[0m \u001b[38;5;124;03m    Return an Index of values for requested level.\u001b[39;00m\n\u001b[0;32m   1975\u001b[0m \n\u001b[1;32m   (...)\u001b[0m\n\u001b[0;32m   2006\u001b[0m \u001b[38;5;124;03m    Index(['a', 'b', 'c'], dtype='object')\u001b[39;00m\n\u001b[0;32m   2007\u001b[0m \u001b[38;5;124;03m    \"\"\"\u001b[39;00m\n\u001b[1;32m-> 2008\u001b[0m     \u001b[38;5;28;43mself\u001b[39;49m\u001b[38;5;241;43m.\u001b[39;49m\u001b[43m_validate_index_level\u001b[49m\u001b[43m(\u001b[49m\u001b[43mlevel\u001b[49m\u001b[43m)\u001b[49m\n\u001b[0;32m   2009\u001b[0m     \u001b[38;5;28;01mreturn\u001b[39;00m \u001b[38;5;28mself\u001b[39m\n",
      "File \u001b[1;32mC:\\Programs\\anaconda3\\lib\\site-packages\\pandas\\core\\indexes\\base.py:1931\u001b[0m, in \u001b[0;36mIndex._validate_index_level\u001b[1;34m(self, level)\u001b[0m\n\u001b[0;32m   1927\u001b[0m         \u001b[38;5;28;01mraise\u001b[39;00m \u001b[38;5;167;01mIndexError\u001b[39;00m(\n\u001b[0;32m   1928\u001b[0m             \u001b[38;5;124mf\u001b[39m\u001b[38;5;124m\"\u001b[39m\u001b[38;5;124mToo many levels: Index has only 1 level, not \u001b[39m\u001b[38;5;132;01m{\u001b[39;00mlevel \u001b[38;5;241m+\u001b[39m \u001b[38;5;241m1\u001b[39m\u001b[38;5;132;01m}\u001b[39;00m\u001b[38;5;124m\"\u001b[39m\n\u001b[0;32m   1929\u001b[0m         )\n\u001b[0;32m   1930\u001b[0m \u001b[38;5;28;01melif\u001b[39;00m level \u001b[38;5;241m!=\u001b[39m \u001b[38;5;28mself\u001b[39m\u001b[38;5;241m.\u001b[39mname:\n\u001b[1;32m-> 1931\u001b[0m     \u001b[38;5;28;01mraise\u001b[39;00m \u001b[38;5;167;01mKeyError\u001b[39;00m(\n\u001b[0;32m   1932\u001b[0m         \u001b[38;5;124mf\u001b[39m\u001b[38;5;124m\"\u001b[39m\u001b[38;5;124mRequested level (\u001b[39m\u001b[38;5;132;01m{\u001b[39;00mlevel\u001b[38;5;132;01m}\u001b[39;00m\u001b[38;5;124m) does not match index name (\u001b[39m\u001b[38;5;132;01m{\u001b[39;00m\u001b[38;5;28mself\u001b[39m\u001b[38;5;241m.\u001b[39mname\u001b[38;5;132;01m}\u001b[39;00m\u001b[38;5;124m)\u001b[39m\u001b[38;5;124m\"\u001b[39m\n\u001b[0;32m   1933\u001b[0m     )\n",
      "\u001b[1;31mKeyError\u001b[0m: 'Requested level (date) does not match index name (symbol)'"
     ]
    }
   ],
   "source": [
    "recalc_dates = features.resample('Q',level='date').mean().index.values[:-1]\n",
    "#print('recalc_dates:')\n",
    "#print(recalc_dates)\n",
    "#print()\n",
    "\n",
    "models = pd.Series(index=recalc_dates)\n",
    "for date in recalc_dates:\n",
    "    X_train = features.xs(slice(None,date),level='date',drop_level=False)\n",
    "    print(X_train)\n",
    "    print('=====')\n",
    "    y_train = outcome.xs(slice(None,date),level='date',drop_level=False)\n",
    "    model = LinearRegression()\n",
    "    model.fit(X_train,y_train)\n",
    "    models.loc[date] = model\n",
    "    \n",
    "    \n",
    "    print(\"Training on the first {} records, through {}\"\\\n",
    "          .format(len(y_train),y_train.index.get_level_values('date').max()))\n",
    "    #print(\"Coefficients: {}\".format((model.coef_)))\n",
    "    #print()"
   ]
  },
  {
   "cell_type": "code",
   "execution_count": null,
   "id": "fb374f66",
   "metadata": {},
   "outputs": [],
   "source": []
  }
 ],
 "metadata": {
  "kernelspec": {
   "display_name": "Python 3 (ipykernel)",
   "language": "python",
   "name": "python3"
  },
  "language_info": {
   "codemirror_mode": {
    "name": "ipython",
    "version": 3
   },
   "file_extension": ".py",
   "mimetype": "text/x-python",
   "name": "python",
   "nbconvert_exporter": "python",
   "pygments_lexer": "ipython3",
   "version": "3.8.12"
  }
 },
 "nbformat": 4,
 "nbformat_minor": 5
}
