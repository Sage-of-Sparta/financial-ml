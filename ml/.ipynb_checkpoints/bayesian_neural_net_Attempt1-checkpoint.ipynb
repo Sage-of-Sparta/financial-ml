{
 "cells": [
  {
   "cell_type": "code",
   "execution_count": 1,
   "id": "5c267383",
   "metadata": {},
   "outputs": [],
   "source": [
    "import numpy as np\n",
    "from sklearn import datasets\n",
    "\n",
    "import torch\n",
    "import torch.nn as nn\n",
    "import torch.optim as optim\n",
    "\n",
    "import torchbnn as bnn\n",
    "import pandas as pd\n",
    "import numpy as np\n",
    "import matplotlib.pyplot as plt\n",
    "%matplotlib inline"
   ]
  },
  {
   "cell_type": "code",
   "execution_count": 2,
   "id": "26288901",
   "metadata": {},
   "outputs": [],
   "source": [
    "X = pd.read_csv('data/supervised_x_transform_onehot.csv')\n",
    "Y = pd.read_csv('data/supervised_y_transform.csv')"
   ]
  },
  {
   "cell_type": "code",
   "execution_count": null,
   "id": "99e839d6",
   "metadata": {},
   "outputs": [],
   "source": []
  },
  {
   "cell_type": "code",
   "execution_count": 3,
   "id": "653656f8",
   "metadata": {},
   "outputs": [
    {
     "name": "stdout",
     "output_type": "stream",
     "text": [
      "torch.Size([1933, 5190]) torch.Size([1933])\n"
     ]
    }
   ],
   "source": [
    "x, y = torch.from_numpy(np.array(X)).float(), torch.from_numpy(np.array(Y).squeeze()).long()\n",
    "print(x.shape, y.shape)"
   ]
  },
  {
   "cell_type": "code",
   "execution_count": 43,
   "id": "d9cd278d",
   "metadata": {},
   "outputs": [],
   "source": [
    "model = nn.Sequential(\n",
    "    bnn.BayesLinear(prior_mu=0, prior_sigma=0.1, in_features=5190, out_features=100000),\n",
    "    #nn.ReLU(),\n",
    "    nn.Sigmoid(),\n",
    "    bnn.BayesLinear(prior_mu=0, prior_sigma=0.1, in_features=100000, out_features=4),\n",
    ")\n",
    "\n",
    "ce_loss = nn.CrossEntropyLoss()\n",
    "kl_loss = bnn.BKLLoss(reduction='mean', last_layer_only=False)\n",
    "kl_weight = 0.01\n",
    "\n",
    "optimizer = optim.Adam(model.parameters(), lr=0.00001)"
   ]
  },
  {
   "cell_type": "code",
   "execution_count": null,
   "id": "191d4482",
   "metadata": {},
   "outputs": [],
   "source": [
    "kl_weight = 0.1\n",
    "\n",
    "for step in range(10):\n",
    "    pre = model(x)\n",
    "    ce = ce_loss(pre, y)\n",
    "    kl = kl_loss(model)\n",
    "    cost = ce + kl_weight*kl\n",
    "    \n",
    "    optimizer.zero_grad()\n",
    "    cost.backward()\n",
    "    optimizer.step()\n",
    "    \n",
    "_, predicted = torch.max(pre.data, 1)\n",
    "total = y.size(0)\n",
    "correct = (predicted == y).sum()\n",
    "print('- Accuracy: %f %%' % (100 * float(correct) / total))\n",
    "print('- CE : %2.2f, KL : %2.2f' % (ce.item(), kl.item()))"
   ]
  },
  {
   "cell_type": "code",
   "execution_count": 41,
   "id": "3552ea29",
   "metadata": {},
   "outputs": [
    {
     "data": {
      "text/plain": [
       "array([0, 1, 2, 3], dtype=int64)"
      ]
     },
     "execution_count": 41,
     "metadata": {},
     "output_type": "execute_result"
    }
   ],
   "source": [
    "np.unique(Y)"
   ]
  },
  {
   "cell_type": "code",
   "execution_count": 42,
   "id": "7ccab6c7",
   "metadata": {},
   "outputs": [
    {
     "data": {
      "text/plain": [
       "tensor([2, 2, 2,  ..., 2, 2, 2])"
      ]
     },
     "execution_count": 42,
     "metadata": {},
     "output_type": "execute_result"
    }
   ],
   "source": [
    "predicted"
   ]
  },
  {
   "cell_type": "code",
   "execution_count": null,
   "id": "4b8c6223",
   "metadata": {},
   "outputs": [],
   "source": []
  },
  {
   "cell_type": "code",
   "execution_count": 25,
   "id": "7b46240b",
   "metadata": {},
   "outputs": [
    {
     "data": {
      "text/plain": [
       "tensor([2, 2, 2,  ..., 2, 2, 2])"
      ]
     },
     "execution_count": 25,
     "metadata": {},
     "output_type": "execute_result"
    }
   ],
   "source": [
    "predicted"
   ]
  }
 ],
 "metadata": {
  "kernelspec": {
   "display_name": "Python 3 (ipykernel)",
   "language": "python",
   "name": "python3"
  },
  "language_info": {
   "codemirror_mode": {
    "name": "ipython",
    "version": 3
   },
   "file_extension": ".py",
   "mimetype": "text/x-python",
   "name": "python",
   "nbconvert_exporter": "python",
   "pygments_lexer": "ipython3",
   "version": "3.8.12"
  }
 },
 "nbformat": 4,
 "nbformat_minor": 5
}
