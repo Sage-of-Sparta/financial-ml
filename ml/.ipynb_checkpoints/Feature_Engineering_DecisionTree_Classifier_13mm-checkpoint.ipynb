{
 "cells": [
  {
   "cell_type": "code",
   "execution_count": 84,
   "id": "f8e8938a",
   "metadata": {},
   "outputs": [],
   "source": [
    "import pandas as pd\n",
    "import numpy as np\n",
    "import matplotlib.pyplot as plt\n",
    "import seaborn as sns\n",
    "\n",
    "%matplotlib inline"
   ]
  },
  {
   "cell_type": "code",
   "execution_count": 85,
   "id": "bc68a6e4",
   "metadata": {},
   "outputs": [],
   "source": [
    "df = pd.read_csv('spy_13mm.csv')\n",
    "df['date'] = pd.to_datetime(df.date,format='%d/%m/%Y')\n",
    "df.sort_values(by='date', inplace=True)\n",
    "df = df.reset_index(drop=True)\n",
    "df1 = df.copy()"
   ]
  },
  {
   "cell_type": "code",
   "execution_count": 86,
   "id": "ef435b31",
   "metadata": {},
   "outputs": [
    {
     "name": "stdout",
     "output_type": "stream",
     "text": [
      "DatetimeIndex(['2000-01-17', '2000-02-21', '2000-04-21', '2000-05-29',\n",
      "               '2000-07-04', '2000-09-04', '2000-11-23', '2000-12-25',\n",
      "               '2001-01-01', '2001-01-15',\n",
      "               ...\n",
      "               '2021-12-31', '2022-01-17', '2022-02-21', '2022-04-15',\n",
      "               '2022-05-30', '2022-06-20', '2022-07-04', '2022-09-05',\n",
      "               '2022-11-24', '2022-12-26'],\n",
      "              dtype='datetime64[ns]', length=208, freq=None)\n"
     ]
    }
   ],
   "source": [
    "from pandas.tseries.holiday import Holiday, nearest_workday\n",
    "from pandas.tseries.holiday import Holiday, nearest_workday\n",
    "juneteenth = Holiday(\n",
    "    'Juneteenth National Independence Day',\n",
    "    month=6,\n",
    "    day=19,\n",
    "    start_date='2021-06-18',\n",
    "    observance=nearest_workday,\n",
    ")\n",
    "independence = Holiday(\n",
    "    'USIndependenceDay',\n",
    "     month=7,\n",
    "     day=4,\n",
    "     observance=nearest_workday\n",
    ")\n",
    "christmas = Holiday(\n",
    "    'Christmas',\n",
    "     month=12,\n",
    "     day=25,\n",
    "     observance=nearest_workday\n",
    ")\n",
    "\n",
    "from pandas.tseries.holiday import nearest_workday, AbstractHolidayCalendar, Holiday, USMartinLutherKingJr, USPresidentsDay, GoodFriday, USMemorialDay, USLaborDay, USThanksgivingDay\n",
    "class USTradingHolidaysCalendar(AbstractHolidayCalendar):\n",
    "    rules = [\n",
    "        Holiday(\n",
    "            'NewYearsDay',\n",
    "            month=1,\n",
    "            day=1,\n",
    "            observance=nearest_workday\n",
    "        ),\n",
    "        USMartinLutherKingJr,\n",
    "        USPresidentsDay,\n",
    "        GoodFriday,\n",
    "        USMemorialDay,\n",
    "        Holiday(\n",
    "            'Juneteenth National Independence Day',\n",
    "            month=6,\n",
    "            day=19,\n",
    "            start_date='2021-06-18',\n",
    "            observance=nearest_workday,\n",
    "        ),\n",
    "        Holiday(\n",
    "            'USIndependenceDay',\n",
    "            month=7,\n",
    "            day=4,\n",
    "            observance=nearest_workday\n",
    "        ),\n",
    "        USLaborDay,\n",
    "        USThanksgivingDay,\n",
    "        Holiday(\n",
    "            'Christmas',\n",
    "            month=12,\n",
    "            day=25,\n",
    "            observance=nearest_workday\n",
    "        ),\n",
    "    ]\n",
    "\n",
    "\n",
    "cal = USTradingHolidaysCalendar()\n",
    "holidays = cal.holidays(start='2000-01-01', end='2022-12-31')\n",
    "\n",
    "print(holidays)\n",
    "\n",
    "\n",
    "\n",
    "\n",
    "\n",
    "\n",
    "\n",
    "\n",
    "\n"
   ]
  },
  {
   "cell_type": "code",
   "execution_count": 87,
   "id": "d3227433",
   "metadata": {},
   "outputs": [
    {
     "data": {
      "text/html": [
       "<div>\n",
       "<style scoped>\n",
       "    .dataframe tbody tr th:only-of-type {\n",
       "        vertical-align: middle;\n",
       "    }\n",
       "\n",
       "    .dataframe tbody tr th {\n",
       "        vertical-align: top;\n",
       "    }\n",
       "\n",
       "    .dataframe thead th {\n",
       "        text-align: right;\n",
       "    }\n",
       "</style>\n",
       "<table border=\"1\" class=\"dataframe\">\n",
       "  <thead>\n",
       "    <tr style=\"text-align: right;\">\n",
       "      <th></th>\n",
       "      <th>date</th>\n",
       "      <th>marketmove</th>\n",
       "    </tr>\n",
       "  </thead>\n",
       "  <tbody>\n",
       "    <tr>\n",
       "      <th>0</th>\n",
       "      <td>2005-01-03</td>\n",
       "      <td>2</td>\n",
       "    </tr>\n",
       "    <tr>\n",
       "      <th>1</th>\n",
       "      <td>2005-01-04</td>\n",
       "      <td>2</td>\n",
       "    </tr>\n",
       "    <tr>\n",
       "      <th>2</th>\n",
       "      <td>2005-01-05</td>\n",
       "      <td>9</td>\n",
       "    </tr>\n",
       "    <tr>\n",
       "      <th>3</th>\n",
       "      <td>2005-01-06</td>\n",
       "      <td>1</td>\n",
       "    </tr>\n",
       "    <tr>\n",
       "      <th>4</th>\n",
       "      <td>2005-01-07</td>\n",
       "      <td>0</td>\n",
       "    </tr>\n",
       "    <tr>\n",
       "      <th>...</th>\n",
       "      <td>...</td>\n",
       "      <td>...</td>\n",
       "    </tr>\n",
       "    <tr>\n",
       "      <th>4483</th>\n",
       "      <td>2022-10-24</td>\n",
       "      <td>7</td>\n",
       "    </tr>\n",
       "    <tr>\n",
       "      <th>4484</th>\n",
       "      <td>2022-10-25</td>\n",
       "      <td>13</td>\n",
       "    </tr>\n",
       "    <tr>\n",
       "      <th>4485</th>\n",
       "      <td>2022-10-26</td>\n",
       "      <td>11</td>\n",
       "    </tr>\n",
       "    <tr>\n",
       "      <th>4486</th>\n",
       "      <td>2022-10-27</td>\n",
       "      <td>2</td>\n",
       "    </tr>\n",
       "    <tr>\n",
       "      <th>4487</th>\n",
       "      <td>2022-10-28</td>\n",
       "      <td>13</td>\n",
       "    </tr>\n",
       "  </tbody>\n",
       "</table>\n",
       "<p>4488 rows × 2 columns</p>\n",
       "</div>"
      ],
      "text/plain": [
       "           date  marketmove\n",
       "0    2005-01-03           2\n",
       "1    2005-01-04           2\n",
       "2    2005-01-05           9\n",
       "3    2005-01-06           1\n",
       "4    2005-01-07           0\n",
       "...         ...         ...\n",
       "4483 2022-10-24           7\n",
       "4484 2022-10-25          13\n",
       "4485 2022-10-26          11\n",
       "4486 2022-10-27           2\n",
       "4487 2022-10-28          13\n",
       "\n",
       "[4488 rows x 2 columns]"
      ]
     },
     "execution_count": 87,
     "metadata": {},
     "output_type": "execute_result"
    }
   ],
   "source": [
    "df = df[~df['date'].isin(holidays)].reset_index(drop=True).copy()\n",
    "df"
   ]
  },
  {
   "cell_type": "code",
   "execution_count": 88,
   "id": "b82ffcf8",
   "metadata": {},
   "outputs": [
    {
     "data": {
      "text/plain": [
       "<AxesSubplot:>"
      ]
     },
     "execution_count": 88,
     "metadata": {},
     "output_type": "execute_result"
    },
    {
     "data": {
      "image/png": "[encoded data removed]",
      "text/plain": [
       "<Figure size 432x288 with 1 Axes>"
      ]
     },
     "metadata": {
      "needs_background": "light"
     },
     "output_type": "display_data"
    }
   ],
   "source": [
    "df.marketmove.value_counts().plot(kind='bar')\n",
    "\n",
    "# Fix this distribution too many 1s?\n"
   ]
  },
  {
   "cell_type": "code",
   "execution_count": 27,
   "id": "8f96362d",
   "metadata": {},
   "outputs": [],
   "source": [
    "step_size = 10\n",
    "mldf = pd.DataFrame()"
   ]
  },
  {
   "cell_type": "code",
   "execution_count": null,
   "id": "00a8208c",
   "metadata": {},
   "outputs": [],
   "source": []
  },
  {
   "cell_type": "code",
   "execution_count": null,
   "id": "1d99534c",
   "metadata": {},
   "outputs": [],
   "source": []
  },
  {
   "cell_type": "code",
   "execution_count": null,
   "id": "731f834c",
   "metadata": {},
   "outputs": [],
   "source": []
  },
  {
   "cell_type": "code",
   "execution_count": null,
   "id": "53708aa8",
   "metadata": {},
   "outputs": [],
   "source": []
  },
  {
   "cell_type": "code",
   "execution_count": 29,
   "id": "e97efcb5",
   "metadata": {},
   "outputs": [
    {
     "data": {
      "text/html": [
       "<div>\n",
       "<style scoped>\n",
       "    .dataframe tbody tr th:only-of-type {\n",
       "        vertical-align: middle;\n",
       "    }\n",
       "\n",
       "    .dataframe tbody tr th {\n",
       "        vertical-align: top;\n",
       "    }\n",
       "\n",
       "    .dataframe thead th {\n",
       "        text-align: right;\n",
       "    }\n",
       "</style>\n",
       "<table border=\"1\" class=\"dataframe\">\n",
       "  <thead>\n",
       "    <tr style=\"text-align: right;\">\n",
       "      <th></th>\n",
       "      <th>marketmove</th>\n",
       "    </tr>\n",
       "  </thead>\n",
       "  <tbody>\n",
       "    <tr>\n",
       "      <th>0</th>\n",
       "      <td>2</td>\n",
       "    </tr>\n",
       "    <tr>\n",
       "      <th>1</th>\n",
       "      <td>2</td>\n",
       "    </tr>\n",
       "    <tr>\n",
       "      <th>2</th>\n",
       "      <td>9</td>\n",
       "    </tr>\n",
       "    <tr>\n",
       "      <th>3</th>\n",
       "      <td>1</td>\n",
       "    </tr>\n",
       "    <tr>\n",
       "      <th>4</th>\n",
       "      <td>0</td>\n",
       "    </tr>\n",
       "    <tr>\n",
       "      <th>...</th>\n",
       "      <td>...</td>\n",
       "    </tr>\n",
       "    <tr>\n",
       "      <th>4483</th>\n",
       "      <td>7</td>\n",
       "    </tr>\n",
       "    <tr>\n",
       "      <th>4484</th>\n",
       "      <td>13</td>\n",
       "    </tr>\n",
       "    <tr>\n",
       "      <th>4485</th>\n",
       "      <td>11</td>\n",
       "    </tr>\n",
       "    <tr>\n",
       "      <th>4486</th>\n",
       "      <td>2</td>\n",
       "    </tr>\n",
       "    <tr>\n",
       "      <th>4487</th>\n",
       "      <td>13</td>\n",
       "    </tr>\n",
       "  </tbody>\n",
       "</table>\n",
       "<p>4488 rows × 1 columns</p>\n",
       "</div>"
      ],
      "text/plain": [
       "      marketmove\n",
       "0              2\n",
       "1              2\n",
       "2              9\n",
       "3              1\n",
       "4              0\n",
       "...          ...\n",
       "4483           7\n",
       "4484          13\n",
       "4485          11\n",
       "4486           2\n",
       "4487          13\n",
       "\n",
       "[4488 rows x 1 columns]"
      ]
     },
     "execution_count": 29,
     "metadata": {},
     "output_type": "execute_result"
    }
   ],
   "source": [
    "df.drop('date', axis=1, inplace=True)"
   ]
  },
  {
   "cell_type": "code",
   "execution_count": 30,
   "id": "f62cd78b",
   "metadata": {},
   "outputs": [],
   "source": [
    "for i, row in df.iterrows():\n",
    "    #print(row['date'])\n",
    "    if i > step_size:\n",
    "        tmp1 = df.iloc[i,:].copy().reset_index(drop = True)\n",
    "        test = pd.DataFrame(tmp1)\n",
    "        test_T = test.T.reset_index(drop = True)\n",
    "        test_T.columns = df.columns\n",
    "\n",
    "\n",
    "        for k in range(1,step_size):  # from 0 to 2\n",
    "            tmp = df.iloc[i-k,:].copy().reset_index(drop = True)    # from 3-0, 3-1, 3-2\n",
    "            test1 = pd.DataFrame(tmp)\n",
    "            test1_T = test1.T.reset_index(drop = True)\n",
    "            test1_T.columns = df.columns\n",
    "            suffix_col = '_' + str(step_size-k)\n",
    "            test1_T = test1_T.add_suffix(suffix_col)\n",
    "            test_T = pd.concat([test_T,test1_T],axis=1)\n",
    "        \n",
    "        mldf = pd.concat([mldf,test_T],axis = 0)\n",
    "\n",
    "\n"
   ]
  },
  {
   "cell_type": "code",
   "execution_count": 32,
   "id": "b87c31fd",
   "metadata": {},
   "outputs": [
    {
     "data": {
      "text/html": [
       "<div>\n",
       "<style scoped>\n",
       "    .dataframe tbody tr th:only-of-type {\n",
       "        vertical-align: middle;\n",
       "    }\n",
       "\n",
       "    .dataframe tbody tr th {\n",
       "        vertical-align: top;\n",
       "    }\n",
       "\n",
       "    .dataframe thead th {\n",
       "        text-align: right;\n",
       "    }\n",
       "</style>\n",
       "<table border=\"1\" class=\"dataframe\">\n",
       "  <thead>\n",
       "    <tr style=\"text-align: right;\">\n",
       "      <th></th>\n",
       "      <th>marketmove</th>\n",
       "      <th>marketmove_9</th>\n",
       "      <th>marketmove_8</th>\n",
       "      <th>marketmove_7</th>\n",
       "      <th>marketmove_6</th>\n",
       "      <th>marketmove_5</th>\n",
       "      <th>marketmove_4</th>\n",
       "      <th>marketmove_3</th>\n",
       "      <th>marketmove_2</th>\n",
       "      <th>marketmove_1</th>\n",
       "    </tr>\n",
       "    <tr>\n",
       "      <th>date</th>\n",
       "      <th></th>\n",
       "      <th></th>\n",
       "      <th></th>\n",
       "      <th></th>\n",
       "      <th></th>\n",
       "      <th></th>\n",
       "      <th></th>\n",
       "      <th></th>\n",
       "      <th></th>\n",
       "      <th></th>\n",
       "    </tr>\n",
       "  </thead>\n",
       "  <tbody>\n",
       "    <tr>\n",
       "      <th>2005-01-19</th>\n",
       "      <td>3</td>\n",
       "      <td>13</td>\n",
       "      <td>1</td>\n",
       "      <td>2</td>\n",
       "      <td>5</td>\n",
       "      <td>3</td>\n",
       "      <td>13</td>\n",
       "      <td>0</td>\n",
       "      <td>1</td>\n",
       "      <td>9</td>\n",
       "    </tr>\n",
       "    <tr>\n",
       "      <th>2005-01-20</th>\n",
       "      <td>9</td>\n",
       "      <td>3</td>\n",
       "      <td>13</td>\n",
       "      <td>1</td>\n",
       "      <td>2</td>\n",
       "      <td>5</td>\n",
       "      <td>3</td>\n",
       "      <td>13</td>\n",
       "      <td>0</td>\n",
       "      <td>1</td>\n",
       "    </tr>\n",
       "    <tr>\n",
       "      <th>2005-01-21</th>\n",
       "      <td>2</td>\n",
       "      <td>9</td>\n",
       "      <td>3</td>\n",
       "      <td>13</td>\n",
       "      <td>1</td>\n",
       "      <td>2</td>\n",
       "      <td>5</td>\n",
       "      <td>3</td>\n",
       "      <td>13</td>\n",
       "      <td>0</td>\n",
       "    </tr>\n",
       "    <tr>\n",
       "      <th>2005-01-24</th>\n",
       "      <td>0</td>\n",
       "      <td>2</td>\n",
       "      <td>9</td>\n",
       "      <td>3</td>\n",
       "      <td>13</td>\n",
       "      <td>1</td>\n",
       "      <td>2</td>\n",
       "      <td>5</td>\n",
       "      <td>3</td>\n",
       "      <td>13</td>\n",
       "    </tr>\n",
       "    <tr>\n",
       "      <th>2005-01-25</th>\n",
       "      <td>1</td>\n",
       "      <td>0</td>\n",
       "      <td>2</td>\n",
       "      <td>9</td>\n",
       "      <td>3</td>\n",
       "      <td>13</td>\n",
       "      <td>1</td>\n",
       "      <td>2</td>\n",
       "      <td>5</td>\n",
       "      <td>3</td>\n",
       "    </tr>\n",
       "    <tr>\n",
       "      <th>...</th>\n",
       "      <td>...</td>\n",
       "      <td>...</td>\n",
       "      <td>...</td>\n",
       "      <td>...</td>\n",
       "      <td>...</td>\n",
       "      <td>...</td>\n",
       "      <td>...</td>\n",
       "      <td>...</td>\n",
       "      <td>...</td>\n",
       "      <td>...</td>\n",
       "    </tr>\n",
       "    <tr>\n",
       "      <th>2022-10-24</th>\n",
       "      <td>7</td>\n",
       "      <td>13</td>\n",
       "      <td>6</td>\n",
       "      <td>5</td>\n",
       "      <td>2</td>\n",
       "      <td>1</td>\n",
       "      <td>2</td>\n",
       "      <td>13</td>\n",
       "      <td>9</td>\n",
       "      <td>11</td>\n",
       "    </tr>\n",
       "    <tr>\n",
       "      <th>2022-10-25</th>\n",
       "      <td>13</td>\n",
       "      <td>7</td>\n",
       "      <td>13</td>\n",
       "      <td>6</td>\n",
       "      <td>5</td>\n",
       "      <td>2</td>\n",
       "      <td>1</td>\n",
       "      <td>2</td>\n",
       "      <td>13</td>\n",
       "      <td>9</td>\n",
       "    </tr>\n",
       "    <tr>\n",
       "      <th>2022-10-26</th>\n",
       "      <td>11</td>\n",
       "      <td>13</td>\n",
       "      <td>7</td>\n",
       "      <td>13</td>\n",
       "      <td>6</td>\n",
       "      <td>5</td>\n",
       "      <td>2</td>\n",
       "      <td>1</td>\n",
       "      <td>2</td>\n",
       "      <td>13</td>\n",
       "    </tr>\n",
       "    <tr>\n",
       "      <th>2022-10-27</th>\n",
       "      <td>2</td>\n",
       "      <td>11</td>\n",
       "      <td>13</td>\n",
       "      <td>7</td>\n",
       "      <td>13</td>\n",
       "      <td>6</td>\n",
       "      <td>5</td>\n",
       "      <td>2</td>\n",
       "      <td>1</td>\n",
       "      <td>2</td>\n",
       "    </tr>\n",
       "    <tr>\n",
       "      <th>2022-10-28</th>\n",
       "      <td>13</td>\n",
       "      <td>2</td>\n",
       "      <td>11</td>\n",
       "      <td>13</td>\n",
       "      <td>7</td>\n",
       "      <td>13</td>\n",
       "      <td>6</td>\n",
       "      <td>5</td>\n",
       "      <td>2</td>\n",
       "      <td>1</td>\n",
       "    </tr>\n",
       "  </tbody>\n",
       "</table>\n",
       "<p>4477 rows × 10 columns</p>\n",
       "</div>"
      ],
      "text/plain": [
       "            marketmove  marketmove_9  marketmove_8  marketmove_7  \\\n",
       "date                                                               \n",
       "2005-01-19           3            13             1             2   \n",
       "2005-01-20           9             3            13             1   \n",
       "2005-01-21           2             9             3            13   \n",
       "2005-01-24           0             2             9             3   \n",
       "2005-01-25           1             0             2             9   \n",
       "...                ...           ...           ...           ...   \n",
       "2022-10-24           7            13             6             5   \n",
       "2022-10-25          13             7            13             6   \n",
       "2022-10-26          11            13             7            13   \n",
       "2022-10-27           2            11            13             7   \n",
       "2022-10-28          13             2            11            13   \n",
       "\n",
       "            marketmove_6  marketmove_5  marketmove_4  marketmove_3  \\\n",
       "date                                                                 \n",
       "2005-01-19             5             3            13             0   \n",
       "2005-01-20             2             5             3            13   \n",
       "2005-01-21             1             2             5             3   \n",
       "2005-01-24            13             1             2             5   \n",
       "2005-01-25             3            13             1             2   \n",
       "...                  ...           ...           ...           ...   \n",
       "2022-10-24             2             1             2            13   \n",
       "2022-10-25             5             2             1             2   \n",
       "2022-10-26             6             5             2             1   \n",
       "2022-10-27            13             6             5             2   \n",
       "2022-10-28             7            13             6             5   \n",
       "\n",
       "            marketmove_2  marketmove_1  \n",
       "date                                    \n",
       "2005-01-19             1             9  \n",
       "2005-01-20             0             1  \n",
       "2005-01-21            13             0  \n",
       "2005-01-24             3            13  \n",
       "2005-01-25             5             3  \n",
       "...                  ...           ...  \n",
       "2022-10-24             9            11  \n",
       "2022-10-25            13             9  \n",
       "2022-10-26             2            13  \n",
       "2022-10-27             1             2  \n",
       "2022-10-28             2             1  \n",
       "\n",
       "[4477 rows x 10 columns]"
      ]
     },
     "execution_count": 32,
     "metadata": {},
     "output_type": "execute_result"
    }
   ],
   "source": [
    "mldf.index = df1.tail(len(df)-step_size-1)['date']\n",
    "mldf"
   ]
  },
  {
   "cell_type": "code",
   "execution_count": 33,
   "id": "c15a3d59",
   "metadata": {},
   "outputs": [
    {
     "name": "stdout",
     "output_type": "stream",
     "text": [
      "(4477, 9)\n",
      "(4477, 1)\n"
     ]
    }
   ],
   "source": [
    "\n",
    "target_df = mldf[['marketmove']]\n",
    "mldf.drop(['marketmove'], axis=1, inplace=True)\n",
    "\n",
    "print(mldf.shape)\n",
    "print(target_df.shape)"
   ]
  },
  {
   "cell_type": "code",
   "execution_count": null,
   "id": "cc911139",
   "metadata": {},
   "outputs": [],
   "source": []
  },
  {
   "cell_type": "code",
   "execution_count": null,
   "id": "eb517a1c",
   "metadata": {},
   "outputs": [],
   "source": []
  },
  {
   "cell_type": "code",
   "execution_count": 37,
   "id": "3c25b943",
   "metadata": {},
   "outputs": [
    {
     "name": "stdout",
     "output_type": "stream",
     "text": [
      "(4477, 9)\n",
      "(4477,)\n"
     ]
    }
   ],
   "source": [
    "#X = mldf[['spy_pco_ret', 'vix_pco_ret', 'tnx_pco_ret', 'dxy_pco_ret','cl_pco_ret', 'gc_pco_ret', 'tlt_pco_ret']]\n",
    "X = mldf\n",
    "y = target_df[['marketmove'][0]]\n",
    "print(X.shape)\n",
    "print(y.shape)"
   ]
  },
  {
   "cell_type": "code",
   "execution_count": 38,
   "id": "cfbacce3",
   "metadata": {},
   "outputs": [
    {
     "data": {
      "text/plain": [
       "DatetimeIndex(['2005-01-19', '2005-01-20', '2005-01-21', '2005-01-24',\n",
       "               '2005-01-25', '2005-01-26', '2005-01-27', '2005-01-28',\n",
       "               '2005-01-31', '2005-02-01',\n",
       "               ...\n",
       "               '2022-10-17', '2022-10-18', '2022-10-19', '2022-10-20',\n",
       "               '2022-10-21', '2022-10-24', '2022-10-25', '2022-10-26',\n",
       "               '2022-10-27', '2022-10-28'],\n",
       "              dtype='datetime64[ns]', name='date', length=4477, freq=None)"
      ]
     },
     "execution_count": 38,
     "metadata": {},
     "output_type": "execute_result"
    }
   ],
   "source": [
    "mldf.index"
   ]
  },
  {
   "cell_type": "code",
   "execution_count": 39,
   "id": "873ccc84",
   "metadata": {},
   "outputs": [],
   "source": [
    "outcome = y\n",
    "features = X\n",
    "outcome.index = X.index\n"
   ]
  },
  {
   "cell_type": "code",
   "execution_count": 40,
   "id": "6fa15c19",
   "metadata": {},
   "outputs": [
    {
     "data": {
      "text/html": [
       "<div>\n",
       "<style scoped>\n",
       "    .dataframe tbody tr th:only-of-type {\n",
       "        vertical-align: middle;\n",
       "    }\n",
       "\n",
       "    .dataframe tbody tr th {\n",
       "        vertical-align: top;\n",
       "    }\n",
       "\n",
       "    .dataframe thead th {\n",
       "        text-align: right;\n",
       "    }\n",
       "</style>\n",
       "<table border=\"1\" class=\"dataframe\">\n",
       "  <thead>\n",
       "    <tr style=\"text-align: right;\">\n",
       "      <th></th>\n",
       "      <th>marketmove</th>\n",
       "    </tr>\n",
       "  </thead>\n",
       "  <tbody>\n",
       "    <tr>\n",
       "      <th>count</th>\n",
       "      <td>4488.000000</td>\n",
       "    </tr>\n",
       "    <tr>\n",
       "      <th>mean</th>\n",
       "      <td>4.302807</td>\n",
       "    </tr>\n",
       "    <tr>\n",
       "      <th>std</th>\n",
       "      <td>4.179702</td>\n",
       "    </tr>\n",
       "    <tr>\n",
       "      <th>min</th>\n",
       "      <td>0.000000</td>\n",
       "    </tr>\n",
       "    <tr>\n",
       "      <th>25%</th>\n",
       "      <td>1.000000</td>\n",
       "    </tr>\n",
       "    <tr>\n",
       "      <th>50%</th>\n",
       "      <td>3.000000</td>\n",
       "    </tr>\n",
       "    <tr>\n",
       "      <th>75%</th>\n",
       "      <td>7.000000</td>\n",
       "    </tr>\n",
       "    <tr>\n",
       "      <th>max</th>\n",
       "      <td>13.000000</td>\n",
       "    </tr>\n",
       "  </tbody>\n",
       "</table>\n",
       "</div>"
      ],
      "text/plain": [
       "        marketmove\n",
       "count  4488.000000\n",
       "mean      4.302807\n",
       "std       4.179702\n",
       "min       0.000000\n",
       "25%       1.000000\n",
       "50%       3.000000\n",
       "75%       7.000000\n",
       "max      13.000000"
      ]
     },
     "execution_count": 40,
     "metadata": {},
     "output_type": "execute_result"
    }
   ],
   "source": [
    "df.describe()"
   ]
  },
  {
   "cell_type": "code",
   "execution_count": 43,
   "id": "f59089ec",
   "metadata": {},
   "outputs": [],
   "source": [
    "from sklearn.tree import DecisionTreeClassifier"
   ]
  },
  {
   "cell_type": "code",
   "execution_count": 44,
   "id": "411a3f84",
   "metadata": {},
   "outputs": [
    {
     "data": {
      "text/html": [
       "<style>#sk-container-id-1 {color: black;background-color: white;}#sk-container-id-1 pre{padding: 0;}#sk-container-id-1 div.sk-toggleable {background-color: white;}#sk-container-id-1 label.sk-toggleable__label {cursor: pointer;display: block;width: 100%;margin-bottom: 0;padding: 0.3em;box-sizing: border-box;text-align: center;}#sk-container-id-1 label.sk-toggleable__label-arrow:before {content: \"▸\";float: left;margin-right: 0.25em;color: #696969;}#sk-container-id-1 label.sk-toggleable__label-arrow:hover:before {color: black;}#sk-container-id-1 div.sk-estimator:hover label.sk-toggleable__label-arrow:before {color: black;}#sk-container-id-1 div.sk-toggleable__content {max-height: 0;max-width: 0;overflow: hidden;text-align: left;background-color: #f0f8ff;}#sk-container-id-1 div.sk-toggleable__content pre {margin: 0.2em;color: black;border-radius: 0.25em;background-color: #f0f8ff;}#sk-container-id-1 input.sk-toggleable__control:checked~div.sk-toggleable__content {max-height: 200px;max-width: 100%;overflow: auto;}#sk-container-id-1 input.sk-toggleable__control:checked~label.sk-toggleable__label-arrow:before {content: \"▾\";}#sk-container-id-1 div.sk-estimator input.sk-toggleable__control:checked~label.sk-toggleable__label {background-color: #d4ebff;}#sk-container-id-1 div.sk-label input.sk-toggleable__control:checked~label.sk-toggleable__label {background-color: #d4ebff;}#sk-container-id-1 input.sk-hidden--visually {border: 0;clip: rect(1px 1px 1px 1px);clip: rect(1px, 1px, 1px, 1px);height: 1px;margin: -1px;overflow: hidden;padding: 0;position: absolute;width: 1px;}#sk-container-id-1 div.sk-estimator {font-family: monospace;background-color: #f0f8ff;border: 1px dotted black;border-radius: 0.25em;box-sizing: border-box;margin-bottom: 0.5em;}#sk-container-id-1 div.sk-estimator:hover {background-color: #d4ebff;}#sk-container-id-1 div.sk-parallel-item::after {content: \"\";width: 100%;border-bottom: 1px solid gray;flex-grow: 1;}#sk-container-id-1 div.sk-label:hover label.sk-toggleable__label {background-color: #d4ebff;}#sk-container-id-1 div.sk-serial::before {content: \"\";position: absolute;border-left: 1px solid gray;box-sizing: border-box;top: 0;bottom: 0;left: 50%;z-index: 0;}#sk-container-id-1 div.sk-serial {display: flex;flex-direction: column;align-items: center;background-color: white;padding-right: 0.2em;padding-left: 0.2em;position: relative;}#sk-container-id-1 div.sk-item {position: relative;z-index: 1;}#sk-container-id-1 div.sk-parallel {display: flex;align-items: stretch;justify-content: center;background-color: white;position: relative;}#sk-container-id-1 div.sk-item::before, #sk-container-id-1 div.sk-parallel-item::before {content: \"\";position: absolute;border-left: 1px solid gray;box-sizing: border-box;top: 0;bottom: 0;left: 50%;z-index: -1;}#sk-container-id-1 div.sk-parallel-item {display: flex;flex-direction: column;z-index: 1;position: relative;background-color: white;}#sk-container-id-1 div.sk-parallel-item:first-child::after {align-self: flex-end;width: 50%;}#sk-container-id-1 div.sk-parallel-item:last-child::after {align-self: flex-start;width: 50%;}#sk-container-id-1 div.sk-parallel-item:only-child::after {width: 0;}#sk-container-id-1 div.sk-dashed-wrapped {border: 1px dashed gray;margin: 0 0.4em 0.5em 0.4em;box-sizing: border-box;padding-bottom: 0.4em;background-color: white;}#sk-container-id-1 div.sk-label label {font-family: monospace;font-weight: bold;display: inline-block;line-height: 1.2em;}#sk-container-id-1 div.sk-label-container {text-align: center;}#sk-container-id-1 div.sk-container {/* jupyter's `normalize.less` sets `[hidden] { display: none; }` but bootstrap.min.css set `[hidden] { display: none !important; }` so we also need the `!important` here to be able to override the default hidden behavior on the sphinx rendered scikit-learn.org. See: https://github.com/scikit-learn/scikit-learn/issues/21755 */display: inline-block !important;position: relative;}#sk-container-id-1 div.sk-text-repr-fallback {display: none;}</style><div id=\"sk-container-id-1\" class=\"sk-top-container\"><div class=\"sk-text-repr-fallback\"><pre>DecisionTreeClassifier(max_depth=3, random_state=0)</pre><b>In a Jupyter environment, please rerun this cell to show the HTML representation or trust the notebook. <br />On GitHub, the HTML representation is unable to render, please try loading this page with nbviewer.org.</b></div><div class=\"sk-container\" hidden><div class=\"sk-item\"><div class=\"sk-estimator sk-toggleable\"><input class=\"sk-toggleable__control sk-hidden--visually\" id=\"sk-estimator-id-1\" type=\"checkbox\" checked><label for=\"sk-estimator-id-1\" class=\"sk-toggleable__label sk-toggleable__label-arrow\">DecisionTreeClassifier</label><div class=\"sk-toggleable__content\"><pre>DecisionTreeClassifier(max_depth=3, random_state=0)</pre></div></div></div></div></div>"
      ],
      "text/plain": [
       "DecisionTreeClassifier(max_depth=3, random_state=0)"
      ]
     },
     "execution_count": 44,
     "metadata": {},
     "output_type": "execute_result"
    }
   ],
   "source": [
    "clf_gini = DecisionTreeClassifier(criterion='gini', max_depth=3, random_state=0)\n",
    "\n",
    "\n",
    "# fit the model\n",
    "clf_gini.fit(X, y)"
   ]
  },
  {
   "cell_type": "code",
   "execution_count": null,
   "id": "3873ef1b",
   "metadata": {},
   "outputs": [],
   "source": []
  },
  {
   "cell_type": "code",
   "execution_count": null,
   "id": "ba0fe28d",
   "metadata": {},
   "outputs": [],
   "source": []
  },
  {
   "cell_type": "code",
   "execution_count": null,
   "id": "21999a13",
   "metadata": {},
   "outputs": [],
   "source": []
  },
  {
   "cell_type": "code",
   "execution_count": null,
   "id": "8dcb2ccb",
   "metadata": {},
   "outputs": [],
   "source": []
  },
  {
   "cell_type": "code",
   "execution_count": 52,
   "id": "175b984c",
   "metadata": {},
   "outputs": [
    {
     "name": "stdout",
     "output_type": "stream",
     "text": [
      "RSQ: 0.8246593701139155\n"
     ]
    }
   ],
   "source": [
    "\n",
    "model = DecisionTreeClassifier(criterion='gini', max_depth=15, random_state=0)\n",
    "#features = pd.concat([f01,f02,f03,f04],axis=1)\n",
    "#features.columns = ['f01','f02','f03','f04']\n",
    "model.fit(X=X,y=y)\n",
    "print('RSQ: '+str(model.score(X=X,y=y)))"
   ]
  },
  {
   "cell_type": "code",
   "execution_count": 53,
   "id": "4c8f5b90",
   "metadata": {},
   "outputs": [],
   "source": [
    "import ta"
   ]
  },
  {
   "cell_type": "code",
   "execution_count": 54,
   "id": "850aefc4",
   "metadata": {},
   "outputs": [],
   "source": [
    "#Multiple R: The multiple correlation coefficient between three or more variables.\n",
    "#R-Squared: This is calculated as (Multiple R)2 and it represents the proportion of the variance in the response variable of a regression model that can be explained by the predictor variables. This value ranges from 0 to 1.\n",
    "#In practice, we’re often interested in the R-squared value because it tells us how useful the predictor variables are at predicting the value of the response variable.\n",
    "#However, each time we add a new predictor variable to the model the R-squared is guaranteed to increase even if the predictor variable isn’t useful. "
   ]
  },
  {
   "cell_type": "code",
   "execution_count": 92,
   "id": "d0b1ce12",
   "metadata": {},
   "outputs": [
    {
     "name": "stdout",
     "output_type": "stream",
     "text": [
      "RSQ in sample: 0.46495392348506004\n",
      "RSQ out of sample: 0.16183035714285715\n"
     ]
    }
   ],
   "source": [
    "\n",
    "split_point = int(0.80*len(outcome))\n",
    "\n",
    "X_train = features.iloc[:split_point,:] \n",
    "y_train = outcome.iloc[:split_point] \n",
    "X_test = features.iloc[split_point:,:] \n",
    "y_test = outcome.iloc[split_point:] \n",
    "\n",
    "model = DecisionTreeClassifier(criterion='gini', max_depth=10, random_state=0)\n",
    "model.fit(X=X_train,y=y_train)\n",
    "\n",
    "print('RSQ in sample: '+str(model.score(X=X_train,y=y_train)))\n",
    "print('RSQ out of sample: '+str(model.score(X=X_test,y=y_test)))\n"
   ]
  },
  {
   "cell_type": "code",
   "execution_count": 100,
   "id": "6a8f4100",
   "metadata": {},
   "outputs": [],
   "source": [
    "from sklearn.model_selection import GridSearchCV\n",
    "\n",
    "param_dict = {\n",
    "    \"criterion\":['gini','entropy'],\n",
    "    \"max_depth\":range(2,10),\n",
    "    \"min_samples_split\":range(2,10),\n",
    "    \"min_samples_leaf\":range(2,5)\n",
    "}"
   ]
  },
  {
   "cell_type": "code",
   "execution_count": 101,
   "id": "06f96612",
   "metadata": {},
   "outputs": [
    {
     "name": "stdout",
     "output_type": "stream",
     "text": [
      "Fitting 10 folds for each of 384 candidates, totalling 3840 fits\n"
     ]
    },
    {
     "data": {
      "text/html": [
       "<style>#sk-container-id-5 {color: black;background-color: white;}#sk-container-id-5 pre{padding: 0;}#sk-container-id-5 div.sk-toggleable {background-color: white;}#sk-container-id-5 label.sk-toggleable__label {cursor: pointer;display: block;width: 100%;margin-bottom: 0;padding: 0.3em;box-sizing: border-box;text-align: center;}#sk-container-id-5 label.sk-toggleable__label-arrow:before {content: \"▸\";float: left;margin-right: 0.25em;color: #696969;}#sk-container-id-5 label.sk-toggleable__label-arrow:hover:before {color: black;}#sk-container-id-5 div.sk-estimator:hover label.sk-toggleable__label-arrow:before {color: black;}#sk-container-id-5 div.sk-toggleable__content {max-height: 0;max-width: 0;overflow: hidden;text-align: left;background-color: #f0f8ff;}#sk-container-id-5 div.sk-toggleable__content pre {margin: 0.2em;color: black;border-radius: 0.25em;background-color: #f0f8ff;}#sk-container-id-5 input.sk-toggleable__control:checked~div.sk-toggleable__content {max-height: 200px;max-width: 100%;overflow: auto;}#sk-container-id-5 input.sk-toggleable__control:checked~label.sk-toggleable__label-arrow:before {content: \"▾\";}#sk-container-id-5 div.sk-estimator input.sk-toggleable__control:checked~label.sk-toggleable__label {background-color: #d4ebff;}#sk-container-id-5 div.sk-label input.sk-toggleable__control:checked~label.sk-toggleable__label {background-color: #d4ebff;}#sk-container-id-5 input.sk-hidden--visually {border: 0;clip: rect(1px 1px 1px 1px);clip: rect(1px, 1px, 1px, 1px);height: 1px;margin: -1px;overflow: hidden;padding: 0;position: absolute;width: 1px;}#sk-container-id-5 div.sk-estimator {font-family: monospace;background-color: #f0f8ff;border: 1px dotted black;border-radius: 0.25em;box-sizing: border-box;margin-bottom: 0.5em;}#sk-container-id-5 div.sk-estimator:hover {background-color: #d4ebff;}#sk-container-id-5 div.sk-parallel-item::after {content: \"\";width: 100%;border-bottom: 1px solid gray;flex-grow: 1;}#sk-container-id-5 div.sk-label:hover label.sk-toggleable__label {background-color: #d4ebff;}#sk-container-id-5 div.sk-serial::before {content: \"\";position: absolute;border-left: 1px solid gray;box-sizing: border-box;top: 0;bottom: 0;left: 50%;z-index: 0;}#sk-container-id-5 div.sk-serial {display: flex;flex-direction: column;align-items: center;background-color: white;padding-right: 0.2em;padding-left: 0.2em;position: relative;}#sk-container-id-5 div.sk-item {position: relative;z-index: 1;}#sk-container-id-5 div.sk-parallel {display: flex;align-items: stretch;justify-content: center;background-color: white;position: relative;}#sk-container-id-5 div.sk-item::before, #sk-container-id-5 div.sk-parallel-item::before {content: \"\";position: absolute;border-left: 1px solid gray;box-sizing: border-box;top: 0;bottom: 0;left: 50%;z-index: -1;}#sk-container-id-5 div.sk-parallel-item {display: flex;flex-direction: column;z-index: 1;position: relative;background-color: white;}#sk-container-id-5 div.sk-parallel-item:first-child::after {align-self: flex-end;width: 50%;}#sk-container-id-5 div.sk-parallel-item:last-child::after {align-self: flex-start;width: 50%;}#sk-container-id-5 div.sk-parallel-item:only-child::after {width: 0;}#sk-container-id-5 div.sk-dashed-wrapped {border: 1px dashed gray;margin: 0 0.4em 0.5em 0.4em;box-sizing: border-box;padding-bottom: 0.4em;background-color: white;}#sk-container-id-5 div.sk-label label {font-family: monospace;font-weight: bold;display: inline-block;line-height: 1.2em;}#sk-container-id-5 div.sk-label-container {text-align: center;}#sk-container-id-5 div.sk-container {/* jupyter's `normalize.less` sets `[hidden] { display: none; }` but bootstrap.min.css set `[hidden] { display: none !important; }` so we also need the `!important` here to be able to override the default hidden behavior on the sphinx rendered scikit-learn.org. See: https://github.com/scikit-learn/scikit-learn/issues/21755 */display: inline-block !important;position: relative;}#sk-container-id-5 div.sk-text-repr-fallback {display: none;}</style><div id=\"sk-container-id-5\" class=\"sk-top-container\"><div class=\"sk-text-repr-fallback\"><pre>GridSearchCV(cv=10, estimator=DecisionTreeClassifier(), n_jobs=-1,\n",
       "             param_grid={&#x27;criterion&#x27;: [&#x27;gini&#x27;, &#x27;entropy&#x27;],\n",
       "                         &#x27;max_depth&#x27;: range(2, 10),\n",
       "                         &#x27;min_samples_leaf&#x27;: range(2, 5),\n",
       "                         &#x27;min_samples_split&#x27;: range(2, 10)},\n",
       "             verbose=1)</pre><b>In a Jupyter environment, please rerun this cell to show the HTML representation or trust the notebook. <br />On GitHub, the HTML representation is unable to render, please try loading this page with nbviewer.org.</b></div><div class=\"sk-container\" hidden><div class=\"sk-item sk-dashed-wrapped\"><div class=\"sk-label-container\"><div class=\"sk-label sk-toggleable\"><input class=\"sk-toggleable__control sk-hidden--visually\" id=\"sk-estimator-id-11\" type=\"checkbox\" ><label for=\"sk-estimator-id-11\" class=\"sk-toggleable__label sk-toggleable__label-arrow\">GridSearchCV</label><div class=\"sk-toggleable__content\"><pre>GridSearchCV(cv=10, estimator=DecisionTreeClassifier(), n_jobs=-1,\n",
       "             param_grid={&#x27;criterion&#x27;: [&#x27;gini&#x27;, &#x27;entropy&#x27;],\n",
       "                         &#x27;max_depth&#x27;: range(2, 10),\n",
       "                         &#x27;min_samples_leaf&#x27;: range(2, 5),\n",
       "                         &#x27;min_samples_split&#x27;: range(2, 10)},\n",
       "             verbose=1)</pre></div></div></div><div class=\"sk-parallel\"><div class=\"sk-parallel-item\"><div class=\"sk-item\"><div class=\"sk-label-container\"><div class=\"sk-label sk-toggleable\"><input class=\"sk-toggleable__control sk-hidden--visually\" id=\"sk-estimator-id-12\" type=\"checkbox\" ><label for=\"sk-estimator-id-12\" class=\"sk-toggleable__label sk-toggleable__label-arrow\">estimator: DecisionTreeClassifier</label><div class=\"sk-toggleable__content\"><pre>DecisionTreeClassifier()</pre></div></div></div><div class=\"sk-serial\"><div class=\"sk-item\"><div class=\"sk-estimator sk-toggleable\"><input class=\"sk-toggleable__control sk-hidden--visually\" id=\"sk-estimator-id-13\" type=\"checkbox\" ><label for=\"sk-estimator-id-13\" class=\"sk-toggleable__label sk-toggleable__label-arrow\">DecisionTreeClassifier</label><div class=\"sk-toggleable__content\"><pre>DecisionTreeClassifier()</pre></div></div></div></div></div></div></div></div></div></div>"
      ],
      "text/plain": [
       "GridSearchCV(cv=10, estimator=DecisionTreeClassifier(), n_jobs=-1,\n",
       "             param_grid={'criterion': ['gini', 'entropy'],\n",
       "                         'max_depth': range(2, 10),\n",
       "                         'min_samples_leaf': range(2, 5),\n",
       "                         'min_samples_split': range(2, 10)},\n",
       "             verbose=1)"
      ]
     },
     "execution_count": 101,
     "metadata": {},
     "output_type": "execute_result"
    }
   ],
   "source": [
    "grid = GridSearchCV(DecisionTreeClassifier(),param_grid=param_dict,cv=10,verbose=1,n_jobs=-1)\n",
    "grid.fit(X_train,y_train)\n"
   ]
  },
  {
   "cell_type": "code",
   "execution_count": 102,
   "id": "ccac693f",
   "metadata": {},
   "outputs": [
    {
     "name": "stdout",
     "output_type": "stream",
     "text": [
      "{'criterion': 'entropy', 'max_depth': 2, 'min_samples_leaf': 2, 'min_samples_split': 2}\n",
      "DecisionTreeClassifier(criterion='entropy', max_depth=2, min_samples_leaf=2)\n",
      "0.2220071271844509\n"
     ]
    }
   ],
   "source": [
    "print(grid.best_params_)\n",
    "print(grid.best_estimator_)\n",
    "print(grid.best_score_)\n",
    "\n"
   ]
  },
  {
   "cell_type": "code",
   "execution_count": 221,
   "id": "99009ab5",
   "metadata": {},
   "outputs": [],
   "source": [
    "#Here, the results tell a different story. \n",
    "#We see that the model's RSQ on the unseen test data degraded to only about half \n",
    "#of the value on the training data. Even if we were still satisfied with the degraded RSQ value, \n",
    "#we would carry concern that perhaps the next period of time the models would degrade even further."
   ]
  },
  {
   "cell_type": "code",
   "execution_count": 223,
   "id": "97403e9f",
   "metadata": {},
   "outputs": [],
   "source": [
    "#df.index = df['date']\n",
    "#recalc_dates = df.resample('Q',level='date').mean().index.values[:-1]"
   ]
  },
  {
   "cell_type": "code",
   "execution_count": null,
   "id": "d01ac2de",
   "metadata": {},
   "outputs": [],
   "source": []
  },
  {
   "cell_type": "code",
   "execution_count": null,
   "id": "96daf496",
   "metadata": {},
   "outputs": [],
   "source": []
  },
  {
   "cell_type": "code",
   "execution_count": 69,
   "id": "a7d19a50",
   "metadata": {},
   "outputs": [
    {
     "name": "stderr",
     "output_type": "stream",
     "text": [
      "C:\\Users\\Damian Joseph\\AppData\\Local\\Temp\\ipykernel_29904\\3368577273.py:6: FutureWarning: The default dtype for empty Series will be 'object' instead of 'float64' in a future version. Specify a dtype explicitly to silence this warning.\n",
      "  models = pd.Series(index=recalc_dates)\n"
     ]
    },
    {
     "name": "stdout",
     "output_type": "stream",
     "text": [
      "Training on the first 49 records, through 2005-03-30 00:00:00\n",
      "Training on the first 113 records, through 2005-06-29 00:00:00\n",
      "Training on the first 177 records, through 2005-09-29 00:00:00\n",
      "Training on the first 241 records, through 2005-12-30 00:00:00\n",
      "Training on the first 302 records, through 2006-03-30 00:00:00\n",
      "Training on the first 365 records, through 2006-06-29 00:00:00\n",
      "Training on the first 429 records, through 2006-09-29 00:00:00\n",
      "Training on the first 492 records, through 2006-12-29 00:00:00\n",
      "Training on the first 554 records, through 2007-03-30 00:00:00\n",
      "Training on the first 617 records, through 2007-06-29 00:00:00\n",
      "Training on the first 680 records, through 2007-09-28 00:00:00\n",
      "Training on the first 743 records, through 2007-12-28 00:00:00\n",
      "Training on the first 804 records, through 2008-03-28 00:00:00\n",
      "Training on the first 868 records, through 2008-06-27 00:00:00\n",
      "Training on the first 932 records, through 2008-09-29 00:00:00\n",
      "Training on the first 996 records, through 2008-12-30 00:00:00\n",
      "Training on the first 1056 records, through 2009-03-30 00:00:00\n",
      "Training on the first 1119 records, through 2009-06-29 00:00:00\n",
      "Training on the first 1183 records, through 2009-09-29 00:00:00\n",
      "Training on the first 1247 records, through 2009-12-30 00:00:00\n",
      "Training on the first 1308 records, through 2010-03-30 00:00:00\n",
      "Training on the first 1371 records, through 2010-06-29 00:00:00\n",
      "Training on the first 1435 records, through 2010-09-29 00:00:00\n",
      "Training on the first 1499 records, through 2010-12-30 00:00:00\n",
      "Training on the first 1560 records, through 2011-03-30 00:00:00\n",
      "Training on the first 1623 records, through 2011-06-29 00:00:00\n",
      "Training on the first 1687 records, through 2011-09-29 00:00:00\n",
      "Training on the first 1751 records, through 2011-12-30 00:00:00\n",
      "Training on the first 1813 records, through 2012-03-30 00:00:00\n",
      "Training on the first 1876 records, through 2012-06-29 00:00:00\n",
      "Training on the first 1939 records, through 2012-09-28 00:00:00\n",
      "Training on the first 2002 records, through 2012-12-28 00:00:00\n",
      "Training on the first 2063 records, through 2013-03-28 00:00:00\n",
      "Training on the first 2127 records, through 2013-06-28 00:00:00\n",
      "Training on the first 2190 records, through 2013-09-27 00:00:00\n",
      "Training on the first 2254 records, through 2013-12-30 00:00:00\n",
      "Training on the first 2315 records, through 2014-03-28 00:00:00\n",
      "Training on the first 2378 records, through 2014-06-27 00:00:00\n",
      "Training on the first 2442 records, through 2014-09-29 00:00:00\n",
      "Training on the first 2506 records, through 2014-12-30 00:00:00\n",
      "Training on the first 2567 records, through 2015-03-30 00:00:00\n",
      "Training on the first 2630 records, through 2015-06-29 00:00:00\n",
      "Training on the first 2694 records, through 2015-09-29 00:00:00\n",
      "Training on the first 2758 records, through 2015-12-30 00:00:00\n",
      "Training on the first 2819 records, through 2016-03-30 00:00:00\n",
      "Training on the first 2883 records, through 2016-06-29 00:00:00\n",
      "Training on the first 2947 records, through 2016-09-29 00:00:00\n",
      "Training on the first 3011 records, through 2016-12-30 00:00:00\n",
      "Training on the first 3072 records, through 2017-03-30 00:00:00\n",
      "Training on the first 3135 records, through 2017-06-29 00:00:00\n",
      "Training on the first 3199 records, through 2017-09-29 00:00:00\n",
      "Training on the first 3262 records, through 2017-12-29 00:00:00\n",
      "Training on the first 3323 records, through 2018-03-29 00:00:00\n",
      "Training on the first 3387 records, through 2018-06-29 00:00:00\n",
      "Training on the first 3450 records, through 2018-09-28 00:00:00\n",
      "Training on the first 3513 records, through 2018-12-28 00:00:00\n",
      "Training on the first 3575 records, through 2019-03-29 00:00:00\n",
      "Training on the first 3638 records, through 2019-06-28 00:00:00\n",
      "Training on the first 3701 records, through 2019-09-27 00:00:00\n",
      "Training on the first 3765 records, through 2019-12-30 00:00:00\n",
      "Training on the first 3827 records, through 2020-03-30 00:00:00\n",
      "Training on the first 3890 records, through 2020-06-29 00:00:00\n",
      "Training on the first 3954 records, through 2020-09-29 00:00:00\n",
      "Training on the first 4018 records, through 2020-12-30 00:00:00\n",
      "Training on the first 4079 records, through 2021-03-30 00:00:00\n",
      "Training on the first 4141 records, through 2021-06-29 00:00:00\n",
      "Training on the first 4205 records, through 2021-09-29 00:00:00\n",
      "Training on the first 4269 records, through 2021-12-30 00:00:00\n",
      "Training on the first 4330 records, through 2022-03-30 00:00:00\n",
      "Training on the first 4392 records, through 2022-06-29 00:00:00\n",
      "Training on the first 4456 records, through 2022-09-29 00:00:00\n"
     ]
    }
   ],
   "source": [
    "recalc_dates = features.resample('Q',level='date').mean().index.values[:-1]\n",
    "#print('recalc_dates:')\n",
    "#print(recalc_dates)\n",
    "#print()\n",
    "\n",
    "models = pd.Series(index=recalc_dates)\n",
    "for date in recalc_dates:\n",
    "    X_train = features[features.index < date]\n",
    "    y_train = outcome[outcome.index < date]\n",
    "    model = DecisionTreeClassifier(criterion='gini', max_depth=10, random_state=0)\n",
    "    model.fit(X_train,y_train)\n",
    "    models.loc[date] = model\n",
    "    \n",
    "    \n",
    "    print(\"Training on the first {} records, through {}\"\\\n",
    "          .format(len(y_train),y_train.index.get_level_values('date').max()))\n",
    "    #print(\"Coefficients: {}\".format((model.coef_)))\n",
    "    #print()"
   ]
  },
  {
   "cell_type": "code",
   "execution_count": null,
   "id": "731bdfe7",
   "metadata": {},
   "outputs": [],
   "source": []
  },
  {
   "cell_type": "code",
   "execution_count": null,
   "id": "bb8307f7",
   "metadata": {},
   "outputs": [],
   "source": []
  },
  {
   "cell_type": "code",
   "execution_count": null,
   "id": "b3ea5ea0",
   "metadata": {},
   "outputs": [],
   "source": []
  },
  {
   "cell_type": "code",
   "execution_count": 72,
   "id": "e2eb2c62",
   "metadata": {},
   "outputs": [
    {
     "name": "stdout",
     "output_type": "stream",
     "text": [
      "Training on the most recent 49 records\n",
      "Training on the most recent 62 records\n",
      "Training on the most recent 62 records\n",
      "Training on the most recent 63 records\n",
      "Training on the most recent 61 records\n",
      "Training on the most recent 62 records\n",
      "Training on the most recent 63 records\n",
      "Training on the most recent 62 records\n",
      "Training on the most recent 62 records\n",
      "Training on the most recent 63 records\n",
      "Training on the most recent 62 records\n",
      "Training on the most recent 61 records\n",
      "Training on the most recent 60 records\n",
      "Training on the most recent 62 records\n",
      "Training on the most recent 61 records\n",
      "Training on the most recent 61 records\n",
      "Training on the most recent 59 records\n",
      "Training on the most recent 61 records\n",
      "Training on the most recent 61 records\n",
      "Training on the most recent 61 records\n",
      "Training on the most recent 60 records\n",
      "Training on the most recent 61 records\n",
      "Training on the most recent 61 records\n",
      "Training on the most recent 62 records\n",
      "Training on the most recent 61 records\n",
      "Training on the most recent 61 records\n",
      "Training on the most recent 62 records\n",
      "Training on the most recent 63 records\n",
      "Training on the most recent 62 records\n",
      "Training on the most recent 63 records\n",
      "Training on the most recent 62 records\n",
      "Training on the most recent 61 records\n",
      "Training on the most recent 60 records\n",
      "Training on the most recent 63 records\n",
      "Training on the most recent 61 records\n",
      "Training on the most recent 61 records\n",
      "Training on the most recent 60 records\n",
      "Training on the most recent 61 records\n",
      "Training on the most recent 61 records\n",
      "Training on the most recent 61 records\n",
      "Training on the most recent 60 records\n",
      "Training on the most recent 61 records\n",
      "Training on the most recent 61 records\n",
      "Training on the most recent 61 records\n",
      "Training on the most recent 60 records\n",
      "Training on the most recent 62 records\n",
      "Training on the most recent 62 records\n",
      "Training on the most recent 63 records\n",
      "Training on the most recent 61 records\n",
      "Training on the most recent 62 records\n",
      "Training on the most recent 63 records\n",
      "Training on the most recent 62 records\n",
      "Training on the most recent 61 records\n",
      "Training on the most recent 64 records\n",
      "Training on the most recent 62 records\n",
      "Training on the most recent 61 records\n",
      "Training on the most recent 61 records\n",
      "Training on the most recent 62 records\n",
      "Training on the most recent 61 records\n",
      "Training on the most recent 61 records\n",
      "Training on the most recent 61 records\n",
      "Training on the most recent 61 records\n",
      "Training on the most recent 61 records\n",
      "Training on the most recent 61 records\n",
      "Training on the most recent 60 records\n",
      "Training on the most recent 60 records\n",
      "Training on the most recent 61 records\n",
      "Training on the most recent 62 records\n",
      "Training on the most recent 61 records\n",
      "Training on the most recent 60 records\n",
      "Training on the most recent 62 records\n"
     ]
    },
    {
     "name": "stderr",
     "output_type": "stream",
     "text": [
      "C:\\Users\\Damian Joseph\\AppData\\Local\\Temp\\ipykernel_29904\\1448084777.py:3: FutureWarning: The default dtype for empty Series will be 'object' instead of 'float64' in a future version. Specify a dtype explicitly to silence this warning.\n",
      "  models = pd.Series(index=recalc_dates)\n"
     ]
    }
   ],
   "source": [
    "recalc_dates = features.resample('Q',level='date').mean().index.values[:-1]\n",
    "\n",
    "models = pd.Series(index=recalc_dates)\n",
    "for date in recalc_dates:\n",
    "    #X_train = features.xs(slice(date-pd.Timedelta('90 days'),date),level='date',drop_level=False)\n",
    "    #y_train = outcome.xs(slice(date-pd.Timedelta('90 days'),date),level='date',drop_level=False)\n",
    "    \n",
    "    X_train = features[(features.index < date) & (features.index > date - pd.Timedelta('90 days'))]\n",
    "    y_train = outcome[(outcome.index < date) & (outcome.index > date - pd.Timedelta('90 days'))]\n",
    "    \n",
    "    model = DecisionTreeClassifier(criterion='gini', max_depth=10, random_state=0)\n",
    "    model.fit(X_train,y_train)\n",
    "    models.loc[date] = model\n",
    "    \n",
    "    print(\"Training on the most recent {} records\".format(len(y_train)))\n",
    "    #print(\"Coefficients: {}\".format((model.coef_)))\n",
    "    \n"
   ]
  },
  {
   "cell_type": "code",
   "execution_count": 73,
   "id": "3c0cb2f3",
   "metadata": {},
   "outputs": [
    {
     "name": "stderr",
     "output_type": "stream",
     "text": [
      "C:\\Users\\Damian Joseph\\AppData\\Local\\Temp\\ipykernel_29904\\953665660.py:4: FutureWarning: The default dtype for empty Series will be 'object' instead of 'float64' in a future version. Specify a dtype explicitly to silence this warning.\n",
      "  predictions = pd.Series(index=features.index)\n"
     ]
    },
    {
     "data": {
      "text/plain": [
       "(4477,)"
      ]
     },
     "execution_count": 73,
     "metadata": {},
     "output_type": "execute_result"
    }
   ],
   "source": [
    "begin_dates = models.index\n",
    "end_dates = models.index[1:].append(pd.to_datetime(['2099-12-31']))\n",
    "\n",
    "predictions = pd.Series(index=features.index)\n",
    "\n",
    "for i,model in enumerate(models): #loop thru each models object in collection\n",
    "    #X = features.xs(slice(begin_dates[i],end_dates[i]),level='date',drop_level=False)\n",
    "    X = features[(features.index > begin_dates[i])&(features.index < end_dates[i])]\n",
    "    p = pd.Series(model.predict(X),index=X.index)\n",
    "    predictions.loc[X.index] = p\n",
    "\n",
    "predictions.shape"
   ]
  },
  {
   "cell_type": "code",
   "execution_count": 82,
   "id": "7dc83598",
   "metadata": {},
   "outputs": [
    {
     "name": "stderr",
     "output_type": "stream",
     "text": [
      "C:\\Users\\Damian Joseph\\AppData\\Local\\Temp\\ipykernel_29904\\2066535739.py:1: FutureWarning: The default dtype for empty Series will be 'object' instead of 'float64' in a future version. Specify a dtype explicitly to silence this warning.\n",
      "  models_expanding_window = pd.Series(index=recalc_dates)\n",
      "C:\\Users\\Damian Joseph\\AppData\\Local\\Temp\\ipykernel_29904\\2066535739.py:12: FutureWarning: The default dtype for empty Series will be 'object' instead of 'float64' in a future version. Specify a dtype explicitly to silence this warning.\n",
      "  models_rolling_window = pd.Series(index=recalc_dates)\n",
      "C:\\Users\\Damian Joseph\\AppData\\Local\\Temp\\ipykernel_29904\\2066535739.py:26: FutureWarning: The default dtype for empty Series will be 'object' instead of 'float64' in a future version. Specify a dtype explicitly to silence this warning.\n",
      "  predictions_expanding_window = pd.Series(index=features.index)\n",
      "C:\\Users\\Damian Joseph\\AppData\\Local\\Temp\\ipykernel_29904\\2066535739.py:33: FutureWarning: The default dtype for empty Series will be 'object' instead of 'float64' in a future version. Specify a dtype explicitly to silence this warning.\n",
      "  predictions_rolling_window = pd.Series(index=features.index)\n"
     ]
    }
   ],
   "source": [
    "models_expanding_window = pd.Series(index=recalc_dates)\n",
    "for date in recalc_dates:\n",
    "    #X_train = features.xs(slice(None,date),level='date',drop_level=False)\n",
    "    #y_train = outcome.xs(slice(None,date),level='date',drop_level=False)\n",
    "    X_train = features[features.index < date]\n",
    "    y_train = outcome[outcome.index < date]   \n",
    "    \n",
    "    model = DecisionTreeClassifier(criterion='gini', max_depth=5, random_state=0)\n",
    "    model.fit(X_train,y_train)\n",
    "    models_expanding_window.loc[date] = model\n",
    "    \n",
    "models_rolling_window = pd.Series(index=recalc_dates)\n",
    "for date in recalc_dates:\n",
    "    #X_train = features.xs(slice(date-pd.Timedelta('90 days'),date),level='date',drop_level=False)\n",
    "    #y_train = outcome.xs(slice(date-pd.Timedelta('90 days'),date),level='date',drop_level=False)\n",
    "    X_train = features[(features.index < date) & (features.index > date - pd.Timedelta('90 days'))]\n",
    "    y_train = outcome[(outcome.index < date) & (outcome.index > date - pd.Timedelta('90 days'))]\n",
    "    \n",
    "    model = DecisionTreeClassifier(criterion='gini', max_depth=5, random_state=0)\n",
    "    model.fit(X_train,y_train)\n",
    "    models_rolling_window.loc[date] = model\n",
    "    \n",
    "begin_dates = models.index\n",
    "end_dates = models.index[1:].append(pd.to_datetime(['2099-12-31']))\n",
    "\n",
    "predictions_expanding_window = pd.Series(index=features.index)\n",
    "for i,model in enumerate(models_expanding_window): #loop thru each models object in collection\n",
    "    #X = features.xs(slice(begin_dates[i],end_dates[i]),level='date',drop_level=False)\n",
    "    X = features[(features.index > begin_dates[i])&(features.index < end_dates[i])]\n",
    "    p = pd.Series(model.predict(X),index=X.index)\n",
    "    predictions_expanding_window.loc[X.index] = p\n",
    "    \n",
    "predictions_rolling_window = pd.Series(index=features.index)\n",
    "for i,model in enumerate(models_rolling_window): #loop thru each models object in collection\n",
    "    #X = features.xs(slice(begin_dates[i],end_dates[i]),level='date',drop_level=False)\n",
    "    X = features[(features.index > begin_dates[i])&(features.index < end_dates[i])]\n",
    "    \n",
    "    p = pd.Series(model.predict(X),index=X.index)\n",
    "    predictions_rolling_window.loc[X.index] = p"
   ]
  },
  {
   "cell_type": "code",
   "execution_count": 83,
   "id": "bab1f518",
   "metadata": {},
   "outputs": [
    {
     "name": "stdout",
     "output_type": "stream",
     "text": [
      "Expanding Window RSQ: 0.188\n",
      "Rolling Window RSQ: 0.145\n"
     ]
    }
   ],
   "source": [
    "from sklearn.metrics import r2_score, accuracy_score\n",
    "\n",
    "common_idx = outcome.dropna().index.intersection(predictions_expanding_window.dropna().index)\n",
    "rsq_expanding = accuracy_score(y_true = outcome[common_idx],y_pred=predictions_expanding_window[common_idx])\n",
    "rsq_rolling = accuracy_score(y_true = outcome[common_idx],y_pred=predictions_rolling_window[common_idx])\n",
    "\n",
    "print(\"Expanding Window RSQ: {}\".format(round(rsq_expanding,3)))\n",
    "print(\"Rolling Window RSQ: {}\".format(round(rsq_rolling,3)))"
   ]
  },
  {
   "cell_type": "code",
   "execution_count": null,
   "id": "06a9e9a7",
   "metadata": {},
   "outputs": [],
   "source": []
  },
  {
   "cell_type": "code",
   "execution_count": null,
   "id": "ee963876",
   "metadata": {},
   "outputs": [],
   "source": []
  }
 ],
 "metadata": {
  "kernelspec": {
   "display_name": "Python 3 (ipykernel)",
   "language": "python",
   "name": "python3"
  },
  "language_info": {
   "codemirror_mode": {
    "name": "ipython",
    "version": 3
   },
   "file_extension": ".py",
   "mimetype": "text/x-python",
   "name": "python",
   "nbconvert_exporter": "python",
   "pygments_lexer": "ipython3",
   "version": "3.8.12"
  }
 },
 "nbformat": 4,
 "nbformat_minor": 5
}
