{
 "cells": [
  {
   "cell_type": "code",
   "execution_count": 398,
   "id": "bd1f606d",
   "metadata": {},
   "outputs": [],
   "source": [
    "import sys \n",
    "import numpy as np # linear algebra\n",
    "from scipy.stats import randint\n",
    "import pandas as pd # data processing, CSV file I/O (e.g. pd.read_csv), data manipulation as in SQL\n",
    "import matplotlib.pyplot as plt # this is used for the plot the graph \n",
    "import seaborn as sns # used for plot interactive graph. \n",
    "from sklearn.model_selection import train_test_split # to split the data into two parts\n",
    "from sklearn.model_selection import KFold\n",
    "from sklearn.preprocessing import StandardScaler # for normalization\n",
    "from sklearn.preprocessing import MinMaxScaler\n",
    "from sklearn.pipeline import Pipeline # pipeline making\n",
    "from sklearn.model_selection import cross_val_score\n",
    "from sklearn.feature_selection import SelectFromModel\n",
    "from sklearn import metrics # for the check the error and accuracy of the model\n",
    "from sklearn.metrics import mean_squared_error,r2_score\n",
    "\n",
    "## for Deep-learing:\n",
    "import keras\n",
    "from keras.layers import Dense\n",
    "from keras.models import Sequential\n",
    "from keras.utils import to_categorical\n",
    "from keras.optimizers import SGD \n",
    "from keras.callbacks import EarlyStopping\n",
    "from keras.utils import np_utils\n",
    "import itertools\n",
    "from keras.layers import LSTM\n",
    "from keras.layers.convolutional import Conv1D\n",
    "from keras.layers.convolutional import MaxPooling1D\n",
    "from keras.layers import Dropout\n",
    "\n",
    "\n",
    "import matplotlib.pyplot as plt\n",
    "from sklearn.preprocessing import MinMaxScaler, StandardScaler\n",
    "\n"
   ]
  },
  {
   "cell_type": "code",
   "execution_count": 399,
   "id": "1818775e",
   "metadata": {},
   "outputs": [],
   "source": [
    "import tensorflow as tf\n",
    "\n",
    "# Ref: https://www.tensorflow.org/guide/gpu\n",
    "gpus = tf.config.experimental.list_physical_devices('GPU')\n",
    "if gpus:\n",
    "  try:\n",
    "    # Currently, memory growth needs to be the same across GPUs\n",
    "    for gpu in gpus:\n",
    "      tf.config.experimental.set_memory_growth(gpu, True)\n",
    "    logical_gpus = tf.config.experimental.list_logical_devices('GPU')\n",
    "    print(len(gpus), \"Physical GPUs,\", len(logical_gpus), \"Logical GPUs\")\n",
    "  except RuntimeError as e:\n",
    "    # Memory growth must be set before GPUs have been initialized\n",
    "    print(e)\n"
   ]
  },
  {
   "cell_type": "code",
   "execution_count": 400,
   "id": "517e0941",
   "metadata": {},
   "outputs": [],
   "source": [
    "df = pd.read_csv('data/base_data_8Y.csv')\n",
    "df = df.dropna().copy()\n",
    "#df['target'] = df['spy_oc_ret'].shift(-1)\n",
    "#df = df.dropna()\n",
    "\n",
    "df.index = df['datecol']\n",
    "\n",
    "df['target'] = df['spy_oc_ret'].shift(-1)\n",
    "df = df.dropna()"
   ]
  },
  {
   "cell_type": "code",
   "execution_count": 401,
   "id": "285a2f19",
   "metadata": {},
   "outputs": [],
   "source": [
    "\n",
    "\n",
    "X = df[df.columns[~df.columns.isin(\n",
    "    ['datecol', 'target','trade_date','target_1','target_2','target_3'])]]\n",
    "y = np.where(df['target']>0.5,1,0)\n",
    "y = np.where(df['target']<-0.5,2,y)\n"
   ]
  },
  {
   "cell_type": "code",
   "execution_count": 402,
   "id": "b5e020c2",
   "metadata": {},
   "outputs": [],
   "source": [
    "tmp = df[df.columns[(~df.columns.str.contains('close|open'))]]\n",
    "X = tmp[tmp.columns[~tmp.columns.isin(\n",
    "    ['datecol', 'target','trade_date','target_1','target_2','target_3'])]].copy()\n"
   ]
  },
  {
   "cell_type": "code",
   "execution_count": 403,
   "id": "6711d811",
   "metadata": {},
   "outputs": [],
   "source": [
    "\n",
    "def transform_ret_columns(ret):\n",
    "    ret_val = 0\n",
    "    if ret < -0.5:\n",
    "        ret_val = 0\n",
    "    elif ret <= 0:\n",
    "        ret_val = 1\n",
    "    elif ret > 0.5:\n",
    "        ret_val = 3\n",
    "    elif ret > 0:\n",
    "        ret_val = 2\n",
    "    return (ret_val)\n",
    "\n",
    "y=df['target'].apply(lambda row: transform_ret_columns(row))\n",
    "\n"
   ]
  },
  {
   "cell_type": "code",
   "execution_count": 404,
   "id": "e3aedc23",
   "metadata": {},
   "outputs": [],
   "source": [
    "ret_columns = list(df.columns[(df.columns.str.contains('_ret'))])\n",
    "\n",
    "scale_cols = ['spy_volume',\n",
    " 'spy_volatility_atr',\n",
    " 'spy_trend_ichimoku_conv',\n",
    " 'spy_trend_ichimoku_base',\n",
    " 'spy_trend_ichimoku_a',\n",
    " 'spy_trend_ichimoku_b',\n",
    " 'spy_trend_cci',\n",
    " 'spy_momentum_rsi',\n",
    " 'spy_trend_macd',\n",
    " 'spy_trend_macd_signal',\n",
    " 'spy_momentum_ppo',\n",
    " 'spy_momentum_ppo_signal',\n",
    " 'Real_PCE',\n",
    " 'Real_PCE_YoY',\n",
    " 'Initial_Claims',\n",
    " 'Initial_Claims_YoY',\n",
    " 'USD_Daily_Return',\n",
    " 'Inflation Rate',\n",
    " '10yr minus 2yr yield',\n",
    " 'Inversion Signal',\n",
    " 'US_Personal_Savings_Rate',\n",
    " 'US_Real_Disposable_Income',\n",
    " 'M2_and_Components',\n",
    " 'Job_Openings_Total_Nonfarm',\n",
    " 'St_Louis_Fed_Fin_Stress_Index',\n",
    " 'Chicago_Fed_Fin_Conditions_Index']"
   ]
  },
  {
   "cell_type": "code",
   "execution_count": null,
   "id": "1e482b3a",
   "metadata": {},
   "outputs": [],
   "source": []
  },
  {
   "cell_type": "code",
   "execution_count": 405,
   "id": "e369ceb7",
   "metadata": {},
   "outputs": [],
   "source": [
    "# TRANSFORMATION\n",
    "\n",
    "for k in df.columns[(df.columns.str.contains('_ret'))]:\n",
    "    #print(k)\n",
    "    \n",
    "    X[k] = X[k].apply(lambda row: transform_ret_columns(row))\n",
    "    \n",
    "#X[df.columns[(df.columns.str.contains('_ret'))]]\n",
    "\n",
    "\n",
    "X['Chicago_Fed_Fin_Conditions_Index'] = X['Chicago_Fed_Fin_Conditions_Index'] ** 2\n",
    "X['spy_volume'] = np.log2(X['spy_volume'])\n",
    "X['spy_volatility_atr'] = np.log2(X['spy_volatility_atr'])\n",
    "X['spy_trend_ichimoku_conv'] = np.log2(X['spy_trend_ichimoku_conv'])\n",
    "X['spy_trend_ichimoku_base'] = np.log2(X['spy_trend_ichimoku_base'])\n",
    "X['spy_trend_ichimoku_a'] = np.log2(X['spy_trend_ichimoku_a'])\n",
    "X['spy_trend_ichimoku_b'] = np.log2(X['spy_trend_ichimoku_b'])\n"
   ]
  },
  {
   "cell_type": "code",
   "execution_count": 406,
   "id": "ef2ad753",
   "metadata": {},
   "outputs": [],
   "source": [
    "# SCALING\n",
    "\n",
    "from sklearn.compose import ColumnTransformer\n",
    "from sklearn.preprocessing import StandardScaler\n",
    "\n",
    "#ct = ColumnTransformer([\n",
    "#        ('somename',StandardScaler(), scale_cols)\n",
    "#    ], remainder='passthrough')\n",
    "\n",
    "scaler = StandardScaler()\n",
    "\n",
    "\n",
    "X[scale_cols] = scaler.fit_transform(X[scale_cols].values)\n",
    "\n",
    "X_scale_df = pd.DataFrame(X,columns=X.columns)\n"
   ]
  },
  {
   "cell_type": "code",
   "execution_count": 407,
   "id": "8dee5800",
   "metadata": {},
   "outputs": [
    {
     "data": {
      "text/html": [
       "<div>\n",
       "<style scoped>\n",
       "    .dataframe tbody tr th:only-of-type {\n",
       "        vertical-align: middle;\n",
       "    }\n",
       "\n",
       "    .dataframe tbody tr th {\n",
       "        vertical-align: top;\n",
       "    }\n",
       "\n",
       "    .dataframe thead th {\n",
       "        text-align: right;\n",
       "    }\n",
       "</style>\n",
       "<table border=\"1\" class=\"dataframe\">\n",
       "  <thead>\n",
       "    <tr style=\"text-align: right;\">\n",
       "      <th></th>\n",
       "      <th>spy_oc_ret</th>\n",
       "      <th>spy_pco_ret</th>\n",
       "      <th>spy_volume</th>\n",
       "      <th>spy_volatility_atr</th>\n",
       "      <th>spy_trend_ichimoku_conv</th>\n",
       "      <th>spy_trend_ichimoku_base</th>\n",
       "      <th>spy_trend_ichimoku_a</th>\n",
       "      <th>spy_trend_ichimoku_b</th>\n",
       "      <th>spy_trend_cci</th>\n",
       "      <th>spy_momentum_rsi</th>\n",
       "      <th>...</th>\n",
       "      <th>month3</th>\n",
       "      <th>month4</th>\n",
       "      <th>month5</th>\n",
       "      <th>month6</th>\n",
       "      <th>month7</th>\n",
       "      <th>month8</th>\n",
       "      <th>month9</th>\n",
       "      <th>month10</th>\n",
       "      <th>month11</th>\n",
       "      <th>month12</th>\n",
       "    </tr>\n",
       "    <tr>\n",
       "      <th>datecol</th>\n",
       "      <th></th>\n",
       "      <th></th>\n",
       "      <th></th>\n",
       "      <th></th>\n",
       "      <th></th>\n",
       "      <th></th>\n",
       "      <th></th>\n",
       "      <th></th>\n",
       "      <th></th>\n",
       "      <th></th>\n",
       "      <th></th>\n",
       "      <th></th>\n",
       "      <th></th>\n",
       "      <th></th>\n",
       "      <th></th>\n",
       "      <th></th>\n",
       "      <th></th>\n",
       "      <th></th>\n",
       "      <th></th>\n",
       "      <th></th>\n",
       "      <th></th>\n",
       "    </tr>\n",
       "  </thead>\n",
       "  <tbody>\n",
       "    <tr>\n",
       "      <th>2015-01-30</th>\n",
       "      <td>0</td>\n",
       "      <td>0</td>\n",
       "      <td>1.98</td>\n",
       "      <td>-0.05</td>\n",
       "      <td>-1.32</td>\n",
       "      <td>-1.28</td>\n",
       "      <td>-1.30</td>\n",
       "      <td>-1.22</td>\n",
       "      <td>-1.20</td>\n",
       "      <td>-1.20</td>\n",
       "      <td>...</td>\n",
       "      <td>0</td>\n",
       "      <td>0</td>\n",
       "      <td>0</td>\n",
       "      <td>0</td>\n",
       "      <td>0</td>\n",
       "      <td>0</td>\n",
       "      <td>0</td>\n",
       "      <td>0</td>\n",
       "      <td>0</td>\n",
       "      <td>0</td>\n",
       "    </tr>\n",
       "    <tr>\n",
       "      <th>2015-02-02</th>\n",
       "      <td>3</td>\n",
       "      <td>2</td>\n",
       "      <td>1.81</td>\n",
       "      <td>0.01</td>\n",
       "      <td>-1.33</td>\n",
       "      <td>-1.29</td>\n",
       "      <td>-1.31</td>\n",
       "      <td>-1.22</td>\n",
       "      <td>-1.00</td>\n",
       "      <td>-0.67</td>\n",
       "      <td>...</td>\n",
       "      <td>0</td>\n",
       "      <td>0</td>\n",
       "      <td>0</td>\n",
       "      <td>0</td>\n",
       "      <td>0</td>\n",
       "      <td>0</td>\n",
       "      <td>0</td>\n",
       "      <td>0</td>\n",
       "      <td>0</td>\n",
       "      <td>0</td>\n",
       "    </tr>\n",
       "    <tr>\n",
       "      <th>2015-02-03</th>\n",
       "      <td>3</td>\n",
       "      <td>3</td>\n",
       "      <td>1.29</td>\n",
       "      <td>-0.01</td>\n",
       "      <td>-1.33</td>\n",
       "      <td>-1.29</td>\n",
       "      <td>-1.31</td>\n",
       "      <td>-1.22</td>\n",
       "      <td>0.34</td>\n",
       "      <td>-0.13</td>\n",
       "      <td>...</td>\n",
       "      <td>0</td>\n",
       "      <td>0</td>\n",
       "      <td>0</td>\n",
       "      <td>0</td>\n",
       "      <td>0</td>\n",
       "      <td>0</td>\n",
       "      <td>0</td>\n",
       "      <td>0</td>\n",
       "      <td>0</td>\n",
       "      <td>0</td>\n",
       "    </tr>\n",
       "    <tr>\n",
       "      <th>2015-02-04</th>\n",
       "      <td>2</td>\n",
       "      <td>1</td>\n",
       "      <td>1.34</td>\n",
       "      <td>-0.08</td>\n",
       "      <td>-1.33</td>\n",
       "      <td>-1.29</td>\n",
       "      <td>-1.31</td>\n",
       "      <td>-1.22</td>\n",
       "      <td>0.36</td>\n",
       "      <td>-0.29</td>\n",
       "      <td>...</td>\n",
       "      <td>0</td>\n",
       "      <td>0</td>\n",
       "      <td>0</td>\n",
       "      <td>0</td>\n",
       "      <td>0</td>\n",
       "      <td>0</td>\n",
       "      <td>0</td>\n",
       "      <td>0</td>\n",
       "      <td>0</td>\n",
       "      <td>0</td>\n",
       "    </tr>\n",
       "    <tr>\n",
       "      <th>2015-02-05</th>\n",
       "      <td>3</td>\n",
       "      <td>2</td>\n",
       "      <td>0.67</td>\n",
       "      <td>-0.13</td>\n",
       "      <td>-1.33</td>\n",
       "      <td>-1.29</td>\n",
       "      <td>-1.31</td>\n",
       "      <td>-1.22</td>\n",
       "      <td>0.76</td>\n",
       "      <td>0.07</td>\n",
       "      <td>...</td>\n",
       "      <td>0</td>\n",
       "      <td>0</td>\n",
       "      <td>0</td>\n",
       "      <td>0</td>\n",
       "      <td>0</td>\n",
       "      <td>0</td>\n",
       "      <td>0</td>\n",
       "      <td>0</td>\n",
       "      <td>0</td>\n",
       "      <td>0</td>\n",
       "    </tr>\n",
       "    <tr>\n",
       "      <th>...</th>\n",
       "      <td>...</td>\n",
       "      <td>...</td>\n",
       "      <td>...</td>\n",
       "      <td>...</td>\n",
       "      <td>...</td>\n",
       "      <td>...</td>\n",
       "      <td>...</td>\n",
       "      <td>...</td>\n",
       "      <td>...</td>\n",
       "      <td>...</td>\n",
       "      <td>...</td>\n",
       "      <td>...</td>\n",
       "      <td>...</td>\n",
       "      <td>...</td>\n",
       "      <td>...</td>\n",
       "      <td>...</td>\n",
       "      <td>...</td>\n",
       "      <td>...</td>\n",
       "      <td>...</td>\n",
       "      <td>...</td>\n",
       "      <td>...</td>\n",
       "    </tr>\n",
       "    <tr>\n",
       "      <th>2022-12-01</th>\n",
       "      <td>1</td>\n",
       "      <td>2</td>\n",
       "      <td>-0.17</td>\n",
       "      <td>1.17</td>\n",
       "      <td>1.29</td>\n",
       "      <td>1.19</td>\n",
       "      <td>1.24</td>\n",
       "      <td>1.12</td>\n",
       "      <td>0.84</td>\n",
       "      <td>0.72</td>\n",
       "      <td>...</td>\n",
       "      <td>0</td>\n",
       "      <td>0</td>\n",
       "      <td>0</td>\n",
       "      <td>0</td>\n",
       "      <td>0</td>\n",
       "      <td>0</td>\n",
       "      <td>0</td>\n",
       "      <td>0</td>\n",
       "      <td>0</td>\n",
       "      <td>1</td>\n",
       "    </tr>\n",
       "    <tr>\n",
       "      <th>2022-12-02</th>\n",
       "      <td>3</td>\n",
       "      <td>0</td>\n",
       "      <td>-0.24</td>\n",
       "      <td>1.15</td>\n",
       "      <td>1.29</td>\n",
       "      <td>1.19</td>\n",
       "      <td>1.24</td>\n",
       "      <td>1.12</td>\n",
       "      <td>0.72</td>\n",
       "      <td>0.67</td>\n",
       "      <td>...</td>\n",
       "      <td>0</td>\n",
       "      <td>0</td>\n",
       "      <td>0</td>\n",
       "      <td>0</td>\n",
       "      <td>0</td>\n",
       "      <td>0</td>\n",
       "      <td>0</td>\n",
       "      <td>0</td>\n",
       "      <td>0</td>\n",
       "      <td>1</td>\n",
       "    </tr>\n",
       "    <tr>\n",
       "      <th>2022-12-05</th>\n",
       "      <td>0</td>\n",
       "      <td>0</td>\n",
       "      <td>-0.30</td>\n",
       "      <td>1.20</td>\n",
       "      <td>1.29</td>\n",
       "      <td>1.19</td>\n",
       "      <td>1.24</td>\n",
       "      <td>1.12</td>\n",
       "      <td>0.28</td>\n",
       "      <td>0.01</td>\n",
       "      <td>...</td>\n",
       "      <td>0</td>\n",
       "      <td>0</td>\n",
       "      <td>0</td>\n",
       "      <td>0</td>\n",
       "      <td>0</td>\n",
       "      <td>0</td>\n",
       "      <td>0</td>\n",
       "      <td>0</td>\n",
       "      <td>0</td>\n",
       "      <td>1</td>\n",
       "    </tr>\n",
       "    <tr>\n",
       "      <th>2022-12-06</th>\n",
       "      <td>0</td>\n",
       "      <td>1</td>\n",
       "      <td>-0.05</td>\n",
       "      <td>1.24</td>\n",
       "      <td>1.28</td>\n",
       "      <td>1.19</td>\n",
       "      <td>1.24</td>\n",
       "      <td>1.12</td>\n",
       "      <td>-0.45</td>\n",
       "      <td>-0.44</td>\n",
       "      <td>...</td>\n",
       "      <td>0</td>\n",
       "      <td>0</td>\n",
       "      <td>0</td>\n",
       "      <td>0</td>\n",
       "      <td>0</td>\n",
       "      <td>0</td>\n",
       "      <td>0</td>\n",
       "      <td>0</td>\n",
       "      <td>0</td>\n",
       "      <td>1</td>\n",
       "    </tr>\n",
       "    <tr>\n",
       "      <th>2022-12-07</th>\n",
       "      <td>2</td>\n",
       "      <td>1</td>\n",
       "      <td>-0.65</td>\n",
       "      <td>1.16</td>\n",
       "      <td>1.28</td>\n",
       "      <td>1.19</td>\n",
       "      <td>1.24</td>\n",
       "      <td>1.12</td>\n",
       "      <td>-0.79</td>\n",
       "      <td>-0.49</td>\n",
       "      <td>...</td>\n",
       "      <td>0</td>\n",
       "      <td>0</td>\n",
       "      <td>0</td>\n",
       "      <td>0</td>\n",
       "      <td>0</td>\n",
       "      <td>0</td>\n",
       "      <td>0</td>\n",
       "      <td>0</td>\n",
       "      <td>0</td>\n",
       "      <td>1</td>\n",
       "    </tr>\n",
       "  </tbody>\n",
       "</table>\n",
       "<p>1964 rows × 101 columns</p>\n",
       "</div>"
      ],
      "text/plain": [
       "            spy_oc_ret  spy_pco_ret  spy_volume  spy_volatility_atr  \\\n",
       "datecol                                                               \n",
       "2015-01-30           0            0        1.98               -0.05   \n",
       "2015-02-02           3            2        1.81                0.01   \n",
       "2015-02-03           3            3        1.29               -0.01   \n",
       "2015-02-04           2            1        1.34               -0.08   \n",
       "2015-02-05           3            2        0.67               -0.13   \n",
       "...                ...          ...         ...                 ...   \n",
       "2022-12-01           1            2       -0.17                1.17   \n",
       "2022-12-02           3            0       -0.24                1.15   \n",
       "2022-12-05           0            0       -0.30                1.20   \n",
       "2022-12-06           0            1       -0.05                1.24   \n",
       "2022-12-07           2            1       -0.65                1.16   \n",
       "\n",
       "            spy_trend_ichimoku_conv  spy_trend_ichimoku_base  \\\n",
       "datecol                                                        \n",
       "2015-01-30                    -1.32                    -1.28   \n",
       "2015-02-02                    -1.33                    -1.29   \n",
       "2015-02-03                    -1.33                    -1.29   \n",
       "2015-02-04                    -1.33                    -1.29   \n",
       "2015-02-05                    -1.33                    -1.29   \n",
       "...                             ...                      ...   \n",
       "2022-12-01                     1.29                     1.19   \n",
       "2022-12-02                     1.29                     1.19   \n",
       "2022-12-05                     1.29                     1.19   \n",
       "2022-12-06                     1.28                     1.19   \n",
       "2022-12-07                     1.28                     1.19   \n",
       "\n",
       "            spy_trend_ichimoku_a  spy_trend_ichimoku_b  spy_trend_cci  \\\n",
       "datecol                                                                 \n",
       "2015-01-30                 -1.30                 -1.22          -1.20   \n",
       "2015-02-02                 -1.31                 -1.22          -1.00   \n",
       "2015-02-03                 -1.31                 -1.22           0.34   \n",
       "2015-02-04                 -1.31                 -1.22           0.36   \n",
       "2015-02-05                 -1.31                 -1.22           0.76   \n",
       "...                          ...                   ...            ...   \n",
       "2022-12-01                  1.24                  1.12           0.84   \n",
       "2022-12-02                  1.24                  1.12           0.72   \n",
       "2022-12-05                  1.24                  1.12           0.28   \n",
       "2022-12-06                  1.24                  1.12          -0.45   \n",
       "2022-12-07                  1.24                  1.12          -0.79   \n",
       "\n",
       "            spy_momentum_rsi  ...  month3  month4  month5  month6  month7  \\\n",
       "datecol                       ...                                           \n",
       "2015-01-30             -1.20  ...       0       0       0       0       0   \n",
       "2015-02-02             -0.67  ...       0       0       0       0       0   \n",
       "2015-02-03             -0.13  ...       0       0       0       0       0   \n",
       "2015-02-04             -0.29  ...       0       0       0       0       0   \n",
       "2015-02-05              0.07  ...       0       0       0       0       0   \n",
       "...                      ...  ...     ...     ...     ...     ...     ...   \n",
       "2022-12-01              0.72  ...       0       0       0       0       0   \n",
       "2022-12-02              0.67  ...       0       0       0       0       0   \n",
       "2022-12-05              0.01  ...       0       0       0       0       0   \n",
       "2022-12-06             -0.44  ...       0       0       0       0       0   \n",
       "2022-12-07             -0.49  ...       0       0       0       0       0   \n",
       "\n",
       "            month8  month9  month10  month11  month12  \n",
       "datecol                                                \n",
       "2015-01-30       0       0        0        0        0  \n",
       "2015-02-02       0       0        0        0        0  \n",
       "2015-02-03       0       0        0        0        0  \n",
       "2015-02-04       0       0        0        0        0  \n",
       "2015-02-05       0       0        0        0        0  \n",
       "...            ...     ...      ...      ...      ...  \n",
       "2022-12-01       0       0        0        0        1  \n",
       "2022-12-02       0       0        0        0        1  \n",
       "2022-12-05       0       0        0        0        1  \n",
       "2022-12-06       0       0        0        0        1  \n",
       "2022-12-07       0       0        0        0        1  \n",
       "\n",
       "[1964 rows x 101 columns]"
      ]
     },
     "execution_count": 407,
     "metadata": {},
     "output_type": "execute_result"
    }
   ],
   "source": [
    "X_scale_df"
   ]
  },
  {
   "cell_type": "code",
   "execution_count": 408,
   "id": "ec92af65",
   "metadata": {},
   "outputs": [],
   "source": [
    "df1 = df.copy()\n",
    "\n",
    "df = X_scale_df.copy()"
   ]
  },
  {
   "cell_type": "code",
   "execution_count": 409,
   "id": "4a78e78d",
   "metadata": {},
   "outputs": [],
   "source": [
    "step_size = 30\n",
    "mldf = pd.DataFrame()\n",
    "df = df.reset_index(drop=True)\n",
    "\n",
    "for i, row in df.iterrows():\n",
    "    #print(row['date'])\n",
    "    if i > step_size:\n",
    "        tmp1 = df.iloc[i,:].copy().reset_index(drop = True)\n",
    "        test = pd.DataFrame(tmp1)\n",
    "        test_T = test.T.reset_index(drop = True)\n",
    "        test_T.columns = df.columns\n",
    "\n",
    "\n",
    "        for k in range(1,step_size):  # from 0 to 2\n",
    "            tmp = df.iloc[i-k,:].copy().reset_index(drop = True)    # from 3-0, 3-1, 3-2\n",
    "            test1 = pd.DataFrame(tmp)\n",
    "            test1_T = test1.T.reset_index(drop = True)\n",
    "            test1_T.columns = df.columns\n",
    "            suffix_col = '_' + str(step_size-k)\n",
    "            test1_T = test1_T.add_suffix(suffix_col)\n",
    "            test_T = pd.concat([test_T,test1_T],axis=1)\n",
    "        \n",
    "        mldf = pd.concat([mldf,test_T],axis = 0)"
   ]
  },
  {
   "cell_type": "code",
   "execution_count": 410,
   "id": "f6c40abe",
   "metadata": {},
   "outputs": [],
   "source": [
    "mldf = mldf.dropna()"
   ]
  },
  {
   "cell_type": "code",
   "execution_count": 411,
   "id": "d260b30e",
   "metadata": {},
   "outputs": [
    {
     "data": {
      "text/html": [
       "<div>\n",
       "<style scoped>\n",
       "    .dataframe tbody tr th:only-of-type {\n",
       "        vertical-align: middle;\n",
       "    }\n",
       "\n",
       "    .dataframe tbody tr th {\n",
       "        vertical-align: top;\n",
       "    }\n",
       "\n",
       "    .dataframe thead th {\n",
       "        text-align: right;\n",
       "    }\n",
       "</style>\n",
       "<table border=\"1\" class=\"dataframe\">\n",
       "  <thead>\n",
       "    <tr style=\"text-align: right;\">\n",
       "      <th></th>\n",
       "      <th>spy_oc_ret</th>\n",
       "      <th>spy_pco_ret</th>\n",
       "      <th>spy_volume</th>\n",
       "      <th>spy_volatility_atr</th>\n",
       "      <th>spy_trend_ichimoku_conv</th>\n",
       "      <th>spy_trend_ichimoku_base</th>\n",
       "      <th>spy_trend_ichimoku_a</th>\n",
       "      <th>spy_trend_ichimoku_b</th>\n",
       "      <th>spy_trend_cci</th>\n",
       "      <th>spy_momentum_rsi</th>\n",
       "      <th>...</th>\n",
       "      <th>month3_1</th>\n",
       "      <th>month4_1</th>\n",
       "      <th>month5_1</th>\n",
       "      <th>month6_1</th>\n",
       "      <th>month7_1</th>\n",
       "      <th>month8_1</th>\n",
       "      <th>month9_1</th>\n",
       "      <th>month10_1</th>\n",
       "      <th>month11_1</th>\n",
       "      <th>month12_1</th>\n",
       "    </tr>\n",
       "  </thead>\n",
       "  <tbody>\n",
       "    <tr>\n",
       "      <th>0</th>\n",
       "      <td>2.00</td>\n",
       "      <td>1.00</td>\n",
       "      <td>0.64</td>\n",
       "      <td>-0.77</td>\n",
       "      <td>-1.23</td>\n",
       "      <td>-1.20</td>\n",
       "      <td>-1.21</td>\n",
       "      <td>-1.23</td>\n",
       "      <td>-0.76</td>\n",
       "      <td>-0.43</td>\n",
       "      <td>...</td>\n",
       "      <td>0.00</td>\n",
       "      <td>0.00</td>\n",
       "      <td>0.00</td>\n",
       "      <td>0.00</td>\n",
       "      <td>0.00</td>\n",
       "      <td>0.00</td>\n",
       "      <td>0.00</td>\n",
       "      <td>0.00</td>\n",
       "      <td>0.00</td>\n",
       "      <td>0.00</td>\n",
       "    </tr>\n",
       "    <tr>\n",
       "      <th>0</th>\n",
       "      <td>3.00</td>\n",
       "      <td>1.00</td>\n",
       "      <td>2.33</td>\n",
       "      <td>-0.57</td>\n",
       "      <td>-1.22</td>\n",
       "      <td>-1.20</td>\n",
       "      <td>-1.21</td>\n",
       "      <td>-1.23</td>\n",
       "      <td>-0.21</td>\n",
       "      <td>0.12</td>\n",
       "      <td>...</td>\n",
       "      <td>0.00</td>\n",
       "      <td>0.00</td>\n",
       "      <td>0.00</td>\n",
       "      <td>0.00</td>\n",
       "      <td>0.00</td>\n",
       "      <td>0.00</td>\n",
       "      <td>0.00</td>\n",
       "      <td>0.00</td>\n",
       "      <td>0.00</td>\n",
       "      <td>0.00</td>\n",
       "    </tr>\n",
       "    <tr>\n",
       "      <th>0</th>\n",
       "      <td>1.00</td>\n",
       "      <td>1.00</td>\n",
       "      <td>0.83</td>\n",
       "      <td>-0.63</td>\n",
       "      <td>-1.22</td>\n",
       "      <td>-1.20</td>\n",
       "      <td>-1.21</td>\n",
       "      <td>-1.23</td>\n",
       "      <td>-0.15</td>\n",
       "      <td>-0.12</td>\n",
       "      <td>...</td>\n",
       "      <td>0.00</td>\n",
       "      <td>0.00</td>\n",
       "      <td>0.00</td>\n",
       "      <td>0.00</td>\n",
       "      <td>0.00</td>\n",
       "      <td>0.00</td>\n",
       "      <td>0.00</td>\n",
       "      <td>0.00</td>\n",
       "      <td>0.00</td>\n",
       "      <td>0.00</td>\n",
       "    </tr>\n",
       "    <tr>\n",
       "      <th>0</th>\n",
       "      <td>2.00</td>\n",
       "      <td>2.00</td>\n",
       "      <td>1.25</td>\n",
       "      <td>-0.68</td>\n",
       "      <td>-1.22</td>\n",
       "      <td>-1.20</td>\n",
       "      <td>-1.21</td>\n",
       "      <td>-1.23</td>\n",
       "      <td>0.10</td>\n",
       "      <td>0.07</td>\n",
       "      <td>...</td>\n",
       "      <td>0.00</td>\n",
       "      <td>0.00</td>\n",
       "      <td>0.00</td>\n",
       "      <td>0.00</td>\n",
       "      <td>0.00</td>\n",
       "      <td>0.00</td>\n",
       "      <td>0.00</td>\n",
       "      <td>0.00</td>\n",
       "      <td>0.00</td>\n",
       "      <td>0.00</td>\n",
       "    </tr>\n",
       "    <tr>\n",
       "      <th>0</th>\n",
       "      <td>1.00</td>\n",
       "      <td>2.00</td>\n",
       "      <td>-0.43</td>\n",
       "      <td>-0.76</td>\n",
       "      <td>-1.22</td>\n",
       "      <td>-1.20</td>\n",
       "      <td>-1.21</td>\n",
       "      <td>-1.23</td>\n",
       "      <td>0.12</td>\n",
       "      <td>-0.04</td>\n",
       "      <td>...</td>\n",
       "      <td>0.00</td>\n",
       "      <td>0.00</td>\n",
       "      <td>0.00</td>\n",
       "      <td>0.00</td>\n",
       "      <td>0.00</td>\n",
       "      <td>0.00</td>\n",
       "      <td>0.00</td>\n",
       "      <td>0.00</td>\n",
       "      <td>0.00</td>\n",
       "      <td>0.00</td>\n",
       "    </tr>\n",
       "    <tr>\n",
       "      <th>...</th>\n",
       "      <td>...</td>\n",
       "      <td>...</td>\n",
       "      <td>...</td>\n",
       "      <td>...</td>\n",
       "      <td>...</td>\n",
       "      <td>...</td>\n",
       "      <td>...</td>\n",
       "      <td>...</td>\n",
       "      <td>...</td>\n",
       "      <td>...</td>\n",
       "      <td>...</td>\n",
       "      <td>...</td>\n",
       "      <td>...</td>\n",
       "      <td>...</td>\n",
       "      <td>...</td>\n",
       "      <td>...</td>\n",
       "      <td>...</td>\n",
       "      <td>...</td>\n",
       "      <td>...</td>\n",
       "      <td>...</td>\n",
       "      <td>...</td>\n",
       "    </tr>\n",
       "    <tr>\n",
       "      <th>0</th>\n",
       "      <td>1.00</td>\n",
       "      <td>2.00</td>\n",
       "      <td>-0.17</td>\n",
       "      <td>1.17</td>\n",
       "      <td>1.29</td>\n",
       "      <td>1.19</td>\n",
       "      <td>1.24</td>\n",
       "      <td>1.12</td>\n",
       "      <td>0.84</td>\n",
       "      <td>0.72</td>\n",
       "      <td>...</td>\n",
       "      <td>0.00</td>\n",
       "      <td>0.00</td>\n",
       "      <td>0.00</td>\n",
       "      <td>0.00</td>\n",
       "      <td>0.00</td>\n",
       "      <td>0.00</td>\n",
       "      <td>0.00</td>\n",
       "      <td>1.00</td>\n",
       "      <td>0.00</td>\n",
       "      <td>0.00</td>\n",
       "    </tr>\n",
       "    <tr>\n",
       "      <th>0</th>\n",
       "      <td>3.00</td>\n",
       "      <td>0.00</td>\n",
       "      <td>-0.24</td>\n",
       "      <td>1.15</td>\n",
       "      <td>1.29</td>\n",
       "      <td>1.19</td>\n",
       "      <td>1.24</td>\n",
       "      <td>1.12</td>\n",
       "      <td>0.72</td>\n",
       "      <td>0.67</td>\n",
       "      <td>...</td>\n",
       "      <td>0.00</td>\n",
       "      <td>0.00</td>\n",
       "      <td>0.00</td>\n",
       "      <td>0.00</td>\n",
       "      <td>0.00</td>\n",
       "      <td>0.00</td>\n",
       "      <td>0.00</td>\n",
       "      <td>1.00</td>\n",
       "      <td>0.00</td>\n",
       "      <td>0.00</td>\n",
       "    </tr>\n",
       "    <tr>\n",
       "      <th>0</th>\n",
       "      <td>0.00</td>\n",
       "      <td>0.00</td>\n",
       "      <td>-0.30</td>\n",
       "      <td>1.20</td>\n",
       "      <td>1.29</td>\n",
       "      <td>1.19</td>\n",
       "      <td>1.24</td>\n",
       "      <td>1.12</td>\n",
       "      <td>0.28</td>\n",
       "      <td>0.01</td>\n",
       "      <td>...</td>\n",
       "      <td>0.00</td>\n",
       "      <td>0.00</td>\n",
       "      <td>0.00</td>\n",
       "      <td>0.00</td>\n",
       "      <td>0.00</td>\n",
       "      <td>0.00</td>\n",
       "      <td>0.00</td>\n",
       "      <td>1.00</td>\n",
       "      <td>0.00</td>\n",
       "      <td>0.00</td>\n",
       "    </tr>\n",
       "    <tr>\n",
       "      <th>0</th>\n",
       "      <td>0.00</td>\n",
       "      <td>1.00</td>\n",
       "      <td>-0.05</td>\n",
       "      <td>1.24</td>\n",
       "      <td>1.28</td>\n",
       "      <td>1.19</td>\n",
       "      <td>1.24</td>\n",
       "      <td>1.12</td>\n",
       "      <td>-0.45</td>\n",
       "      <td>-0.44</td>\n",
       "      <td>...</td>\n",
       "      <td>0.00</td>\n",
       "      <td>0.00</td>\n",
       "      <td>0.00</td>\n",
       "      <td>0.00</td>\n",
       "      <td>0.00</td>\n",
       "      <td>0.00</td>\n",
       "      <td>0.00</td>\n",
       "      <td>1.00</td>\n",
       "      <td>0.00</td>\n",
       "      <td>0.00</td>\n",
       "    </tr>\n",
       "    <tr>\n",
       "      <th>0</th>\n",
       "      <td>2.00</td>\n",
       "      <td>1.00</td>\n",
       "      <td>-0.65</td>\n",
       "      <td>1.16</td>\n",
       "      <td>1.28</td>\n",
       "      <td>1.19</td>\n",
       "      <td>1.24</td>\n",
       "      <td>1.12</td>\n",
       "      <td>-0.79</td>\n",
       "      <td>-0.49</td>\n",
       "      <td>...</td>\n",
       "      <td>0.00</td>\n",
       "      <td>0.00</td>\n",
       "      <td>0.00</td>\n",
       "      <td>0.00</td>\n",
       "      <td>0.00</td>\n",
       "      <td>0.00</td>\n",
       "      <td>0.00</td>\n",
       "      <td>1.00</td>\n",
       "      <td>0.00</td>\n",
       "      <td>0.00</td>\n",
       "    </tr>\n",
       "  </tbody>\n",
       "</table>\n",
       "<p>1933 rows × 3030 columns</p>\n",
       "</div>"
      ],
      "text/plain": [
       "    spy_oc_ret  spy_pco_ret  spy_volume  spy_volatility_atr  \\\n",
       "0         2.00         1.00        0.64               -0.77   \n",
       "0         3.00         1.00        2.33               -0.57   \n",
       "0         1.00         1.00        0.83               -0.63   \n",
       "0         2.00         2.00        1.25               -0.68   \n",
       "0         1.00         2.00       -0.43               -0.76   \n",
       "..         ...          ...         ...                 ...   \n",
       "0         1.00         2.00       -0.17                1.17   \n",
       "0         3.00         0.00       -0.24                1.15   \n",
       "0         0.00         0.00       -0.30                1.20   \n",
       "0         0.00         1.00       -0.05                1.24   \n",
       "0         2.00         1.00       -0.65                1.16   \n",
       "\n",
       "    spy_trend_ichimoku_conv  spy_trend_ichimoku_base  spy_trend_ichimoku_a  \\\n",
       "0                     -1.23                    -1.20                 -1.21   \n",
       "0                     -1.22                    -1.20                 -1.21   \n",
       "0                     -1.22                    -1.20                 -1.21   \n",
       "0                     -1.22                    -1.20                 -1.21   \n",
       "0                     -1.22                    -1.20                 -1.21   \n",
       "..                      ...                      ...                   ...   \n",
       "0                      1.29                     1.19                  1.24   \n",
       "0                      1.29                     1.19                  1.24   \n",
       "0                      1.29                     1.19                  1.24   \n",
       "0                      1.28                     1.19                  1.24   \n",
       "0                      1.28                     1.19                  1.24   \n",
       "\n",
       "    spy_trend_ichimoku_b  spy_trend_cci  spy_momentum_rsi  ...  month3_1  \\\n",
       "0                  -1.23          -0.76             -0.43  ...      0.00   \n",
       "0                  -1.23          -0.21              0.12  ...      0.00   \n",
       "0                  -1.23          -0.15             -0.12  ...      0.00   \n",
       "0                  -1.23           0.10              0.07  ...      0.00   \n",
       "0                  -1.23           0.12             -0.04  ...      0.00   \n",
       "..                   ...            ...               ...  ...       ...   \n",
       "0                   1.12           0.84              0.72  ...      0.00   \n",
       "0                   1.12           0.72              0.67  ...      0.00   \n",
       "0                   1.12           0.28              0.01  ...      0.00   \n",
       "0                   1.12          -0.45             -0.44  ...      0.00   \n",
       "0                   1.12          -0.79             -0.49  ...      0.00   \n",
       "\n",
       "    month4_1  month5_1  month6_1  month7_1  month8_1  month9_1  month10_1  \\\n",
       "0       0.00      0.00      0.00      0.00      0.00      0.00       0.00   \n",
       "0       0.00      0.00      0.00      0.00      0.00      0.00       0.00   \n",
       "0       0.00      0.00      0.00      0.00      0.00      0.00       0.00   \n",
       "0       0.00      0.00      0.00      0.00      0.00      0.00       0.00   \n",
       "0       0.00      0.00      0.00      0.00      0.00      0.00       0.00   \n",
       "..       ...       ...       ...       ...       ...       ...        ...   \n",
       "0       0.00      0.00      0.00      0.00      0.00      0.00       1.00   \n",
       "0       0.00      0.00      0.00      0.00      0.00      0.00       1.00   \n",
       "0       0.00      0.00      0.00      0.00      0.00      0.00       1.00   \n",
       "0       0.00      0.00      0.00      0.00      0.00      0.00       1.00   \n",
       "0       0.00      0.00      0.00      0.00      0.00      0.00       1.00   \n",
       "\n",
       "    month11_1  month12_1  \n",
       "0        0.00       0.00  \n",
       "0        0.00       0.00  \n",
       "0        0.00       0.00  \n",
       "0        0.00       0.00  \n",
       "0        0.00       0.00  \n",
       "..        ...        ...  \n",
       "0        0.00       0.00  \n",
       "0        0.00       0.00  \n",
       "0        0.00       0.00  \n",
       "0        0.00       0.00  \n",
       "0        0.00       0.00  \n",
       "\n",
       "[1933 rows x 3030 columns]"
      ]
     },
     "execution_count": 411,
     "metadata": {},
     "output_type": "execute_result"
    }
   ],
   "source": [
    "mldf"
   ]
  },
  {
   "cell_type": "code",
   "execution_count": null,
   "id": "78822c1f",
   "metadata": {},
   "outputs": [],
   "source": []
  },
  {
   "cell_type": "code",
   "execution_count": 412,
   "id": "b8616c7f",
   "metadata": {},
   "outputs": [],
   "source": [
    "y = y[step_size+1:]"
   ]
  },
  {
   "cell_type": "code",
   "execution_count": 413,
   "id": "21679563",
   "metadata": {},
   "outputs": [
    {
     "data": {
      "text/plain": [
       "(1933,)"
      ]
     },
     "execution_count": 413,
     "metadata": {},
     "output_type": "execute_result"
    }
   ],
   "source": [
    "\n",
    "np.shape(y)\n",
    "\n"
   ]
  },
  {
   "cell_type": "code",
   "execution_count": 414,
   "id": "3d8d1a32",
   "metadata": {},
   "outputs": [],
   "source": [
    "from lazypredict.Supervised import LazyClassifier, LazyRegressor\n",
    "from sklearn.datasets import load_breast_cancer\n",
    "from sklearn.model_selection import train_test_split\n",
    "# Dataframe manipulation\n",
    "import pandas as pd\n",
    "# Linear algebra\n",
    "import numpy as np"
   ]
  },
  {
   "cell_type": "code",
   "execution_count": 415,
   "id": "0ed6a67d",
   "metadata": {},
   "outputs": [
    {
     "name": "stderr",
     "output_type": "stream",
     "text": [
      "  3%|██                                                        | 1/29 [00:06<03:06,  6.66s/it]"
     ]
    },
    {
     "name": "stdout",
     "output_type": "stream",
     "text": [
      "ROC AUC couldn't be calculated for AdaBoostClassifier\n",
      "multi_class must be in ('ovo', 'ovr')\n"
     ]
    },
    {
     "name": "stderr",
     "output_type": "stream",
     "text": [
      "\r",
      "  7%|████                                                      | 2/29 [00:13<02:56,  6.55s/it]"
     ]
    },
    {
     "name": "stdout",
     "output_type": "stream",
     "text": [
      "ROC AUC couldn't be calculated for BaggingClassifier\n",
      "multi_class must be in ('ovo', 'ovr')\n"
     ]
    },
    {
     "name": "stderr",
     "output_type": "stream",
     "text": [
      "\r",
      " 10%|██████                                                    | 3/29 [00:13<01:36,  3.70s/it]"
     ]
    },
    {
     "name": "stdout",
     "output_type": "stream",
     "text": [
      "ROC AUC couldn't be calculated for BernoulliNB\n",
      "multi_class must be in ('ovo', 'ovr')\n"
     ]
    },
    {
     "name": "stderr",
     "output_type": "stream",
     "text": [
      "\r",
      " 14%|████████                                                  | 4/29 [00:37<04:56, 11.87s/it]"
     ]
    },
    {
     "name": "stdout",
     "output_type": "stream",
     "text": [
      "ROC AUC couldn't be calculated for CalibratedClassifierCV\n",
      "multi_class must be in ('ovo', 'ovr')\n",
      "CategoricalNB model failed to execute\n",
      "Negative values in data passed to CategoricalNB (input X)\n"
     ]
    },
    {
     "name": "stderr",
     "output_type": "stream",
     "text": [
      " 21%|████████████                                              | 6/29 [00:39<02:04,  5.43s/it]"
     ]
    },
    {
     "name": "stdout",
     "output_type": "stream",
     "text": [
      "ROC AUC couldn't be calculated for DecisionTreeClassifier\n",
      "multi_class must be in ('ovo', 'ovr')\n",
      "ROC AUC couldn't be calculated for DummyClassifier\n"
     ]
    },
    {
     "name": "stderr",
     "output_type": "stream",
     "text": [
      "\r",
      " 24%|██████████████                                            | 7/29 [00:39<01:21,  3.72s/it]"
     ]
    },
    {
     "name": "stdout",
     "output_type": "stream",
     "text": [
      "multi_class must be in ('ovo', 'ovr')\n"
     ]
    },
    {
     "name": "stderr",
     "output_type": "stream",
     "text": [
      "\r",
      " 28%|████████████████                                          | 8/29 [00:39<00:54,  2.61s/it]"
     ]
    },
    {
     "name": "stdout",
     "output_type": "stream",
     "text": [
      "ROC AUC couldn't be calculated for ExtraTreeClassifier\n",
      "multi_class must be in ('ovo', 'ovr')\n"
     ]
    },
    {
     "name": "stderr",
     "output_type": "stream",
     "text": [
      "\r",
      " 31%|██████████████████                                        | 9/29 [00:40<00:44,  2.23s/it]"
     ]
    },
    {
     "name": "stdout",
     "output_type": "stream",
     "text": [
      "ROC AUC couldn't be calculated for ExtraTreesClassifier\n",
      "multi_class must be in ('ovo', 'ovr')\n"
     ]
    },
    {
     "name": "stderr",
     "output_type": "stream",
     "text": [
      "\r",
      " 34%|███████████████████▋                                     | 10/29 [00:41<00:31,  1.64s/it]"
     ]
    },
    {
     "name": "stdout",
     "output_type": "stream",
     "text": [
      "ROC AUC couldn't be calculated for GaussianNB\n",
      "multi_class must be in ('ovo', 'ovr')\n"
     ]
    },
    {
     "name": "stderr",
     "output_type": "stream",
     "text": [
      "\r",
      " 38%|█████████████████████▌                                   | 11/29 [00:41<00:22,  1.24s/it]"
     ]
    },
    {
     "name": "stdout",
     "output_type": "stream",
     "text": [
      "ROC AUC couldn't be calculated for KNeighborsClassifier\n",
      "multi_class must be in ('ovo', 'ovr')\n"
     ]
    },
    {
     "name": "stderr",
     "output_type": "stream",
     "text": [
      "\r",
      " 41%|███████████████████████▌                                 | 12/29 [00:41<00:16,  1.02it/s]"
     ]
    },
    {
     "name": "stdout",
     "output_type": "stream",
     "text": [
      "ROC AUC couldn't be calculated for LabelPropagation\n",
      "multi_class must be in ('ovo', 'ovr')\n"
     ]
    },
    {
     "name": "stderr",
     "output_type": "stream",
     "text": [
      "\r",
      " 45%|█████████████████████████▌                               | 13/29 [00:42<00:12,  1.23it/s]"
     ]
    },
    {
     "name": "stdout",
     "output_type": "stream",
     "text": [
      "ROC AUC couldn't be calculated for LabelSpreading\n",
      "multi_class must be in ('ovo', 'ovr')\n"
     ]
    },
    {
     "name": "stderr",
     "output_type": "stream",
     "text": [
      "\r",
      " 48%|███████████████████████████▌                             | 14/29 [00:43<00:14,  1.06it/s]"
     ]
    },
    {
     "name": "stdout",
     "output_type": "stream",
     "text": [
      "ROC AUC couldn't be calculated for LinearDiscriminantAnalysis\n",
      "multi_class must be in ('ovo', 'ovr')\n"
     ]
    },
    {
     "name": "stderr",
     "output_type": "stream",
     "text": [
      "\r",
      " 52%|█████████████████████████████▍                           | 15/29 [00:52<00:47,  3.42s/it]"
     ]
    },
    {
     "name": "stdout",
     "output_type": "stream",
     "text": [
      "ROC AUC couldn't be calculated for LinearSVC\n",
      "multi_class must be in ('ovo', 'ovr')\n"
     ]
    },
    {
     "name": "stderr",
     "output_type": "stream",
     "text": [
      "\r",
      " 55%|███████████████████████████████▍                         | 16/29 [00:53<00:33,  2.55s/it]"
     ]
    },
    {
     "name": "stdout",
     "output_type": "stream",
     "text": [
      "ROC AUC couldn't be calculated for LogisticRegression\n",
      "multi_class must be in ('ovo', 'ovr')\n"
     ]
    },
    {
     "name": "stderr",
     "output_type": "stream",
     "text": [
      "\r",
      " 59%|█████████████████████████████████▍                       | 17/29 [00:53<00:22,  1.86s/it]"
     ]
    },
    {
     "name": "stdout",
     "output_type": "stream",
     "text": [
      "ROC AUC couldn't be calculated for NearestCentroid\n",
      "multi_class must be in ('ovo', 'ovr')\n"
     ]
    },
    {
     "name": "stderr",
     "output_type": "stream",
     "text": [
      "\r",
      " 62%|███████████████████████████████████▍                     | 18/29 [00:57<00:28,  2.61s/it]"
     ]
    },
    {
     "name": "stdout",
     "output_type": "stream",
     "text": [
      "ROC AUC couldn't be calculated for NuSVC\n",
      "multi_class must be in ('ovo', 'ovr')\n"
     ]
    },
    {
     "name": "stderr",
     "output_type": "stream",
     "text": [
      "\r",
      " 66%|█████████████████████████████████████▎                   | 19/29 [01:00<00:25,  2.55s/it]"
     ]
    },
    {
     "name": "stdout",
     "output_type": "stream",
     "text": [
      "ROC AUC couldn't be calculated for PassiveAggressiveClassifier\n",
      "multi_class must be in ('ovo', 'ovr')\n"
     ]
    },
    {
     "name": "stderr",
     "output_type": "stream",
     "text": [
      "\r",
      " 69%|███████████████████████████████████████▎                 | 20/29 [01:01<00:18,  2.05s/it]"
     ]
    },
    {
     "name": "stdout",
     "output_type": "stream",
     "text": [
      "ROC AUC couldn't be calculated for Perceptron\n",
      "multi_class must be in ('ovo', 'ovr')\n"
     ]
    },
    {
     "name": "stderr",
     "output_type": "stream",
     "text": [
      "\r",
      " 72%|█████████████████████████████████████████▎               | 21/29 [01:01<00:12,  1.60s/it]"
     ]
    },
    {
     "name": "stdout",
     "output_type": "stream",
     "text": [
      "ROC AUC couldn't be calculated for QuadraticDiscriminantAnalysis\n",
      "multi_class must be in ('ovo', 'ovr')\n"
     ]
    },
    {
     "name": "stderr",
     "output_type": "stream",
     "text": [
      "\r",
      " 76%|███████████████████████████████████████████▏             | 22/29 [01:03<00:11,  1.63s/it]"
     ]
    },
    {
     "name": "stdout",
     "output_type": "stream",
     "text": [
      "ROC AUC couldn't be calculated for RandomForestClassifier\n",
      "multi_class must be in ('ovo', 'ovr')\n"
     ]
    },
    {
     "name": "stderr",
     "output_type": "stream",
     "text": [
      "\r",
      " 79%|█████████████████████████████████████████████▏           | 23/29 [01:03<00:07,  1.23s/it]"
     ]
    },
    {
     "name": "stdout",
     "output_type": "stream",
     "text": [
      "ROC AUC couldn't be calculated for RidgeClassifier\n",
      "multi_class must be in ('ovo', 'ovr')\n"
     ]
    },
    {
     "name": "stderr",
     "output_type": "stream",
     "text": [
      "\r",
      " 83%|███████████████████████████████████████████████▏         | 24/29 [01:04<00:05,  1.02s/it]"
     ]
    },
    {
     "name": "stdout",
     "output_type": "stream",
     "text": [
      "ROC AUC couldn't be calculated for RidgeClassifierCV\n",
      "multi_class must be in ('ovo', 'ovr')\n"
     ]
    },
    {
     "name": "stderr",
     "output_type": "stream",
     "text": [
      "\r",
      " 86%|█████████████████████████████████████████████████▏       | 25/29 [01:05<00:03,  1.00it/s]"
     ]
    },
    {
     "name": "stdout",
     "output_type": "stream",
     "text": [
      "ROC AUC couldn't be calculated for SGDClassifier\n",
      "multi_class must be in ('ovo', 'ovr')\n"
     ]
    },
    {
     "name": "stderr",
     "output_type": "stream",
     "text": [
      "\r",
      " 90%|███████████████████████████████████████████████████      | 26/29 [01:10<00:06,  2.22s/it]"
     ]
    },
    {
     "name": "stdout",
     "output_type": "stream",
     "text": [
      "ROC AUC couldn't be calculated for SVC\n",
      "multi_class must be in ('ovo', 'ovr')\n",
      "StackingClassifier model failed to execute\n",
      "__init__() missing 1 required positional argument: 'estimators'\n"
     ]
    },
    {
     "name": "stderr",
     "output_type": "stream",
     "text": [
      "\r",
      " 97%|███████████████████████████████████████████████████████  | 28/29 [01:18<00:03,  3.01s/it]"
     ]
    },
    {
     "name": "stdout",
     "output_type": "stream",
     "text": [
      "ROC AUC couldn't be calculated for XGBClassifier\n",
      "multi_class must be in ('ovo', 'ovr')\n"
     ]
    },
    {
     "name": "stderr",
     "output_type": "stream",
     "text": [
      "100%|█████████████████████████████████████████████████████████| 29/29 [01:23<00:00,  2.87s/it]"
     ]
    },
    {
     "name": "stdout",
     "output_type": "stream",
     "text": [
      "ROC AUC couldn't be calculated for LGBMClassifier\n",
      "multi_class must be in ('ovo', 'ovr')\n",
      "                               Accuracy  Balanced Accuracy ROC AUC  F1 Score  \\\n",
      "Model                                                                          \n",
      "RandomForestClassifier             0.38               0.36    None      0.37   \n",
      "BaggingClassifier                  0.36               0.36    None      0.36   \n",
      "ExtraTreesClassifier               0.36               0.34    None      0.35   \n",
      "XGBClassifier                      0.36               0.34    None      0.35   \n",
      "KNeighborsClassifier               0.34               0.33    None      0.33   \n",
      "LGBMClassifier                     0.36               0.33    None      0.35   \n",
      "DecisionTreeClassifier             0.34               0.33    None      0.34   \n",
      "NuSVC                              0.34               0.32    None      0.33   \n",
      "AdaBoostClassifier                 0.34               0.32    None      0.34   \n",
      "SVC                                0.36               0.32    None      0.33   \n",
      "PassiveAggressiveClassifier        0.32               0.32    None      0.32   \n",
      "LogisticRegression                 0.32               0.31    None      0.32   \n",
      "SGDClassifier                      0.32               0.31    None      0.32   \n",
      "NearestCentroid                    0.32               0.31    None      0.32   \n",
      "LinearSVC                          0.31               0.31    None      0.31   \n",
      "GaussianNB                         0.33               0.30    None      0.31   \n",
      "Perceptron                         0.29               0.29    None      0.29   \n",
      "BernoulliNB                        0.31               0.29    None      0.30   \n",
      "RidgeClassifier                    0.29               0.29    None      0.29   \n",
      "RidgeClassifierCV                  0.29               0.29    None      0.29   \n",
      "ExtraTreeClassifier                0.29               0.28    None      0.29   \n",
      "LinearDiscriminantAnalysis         0.27               0.26    None      0.27   \n",
      "CalibratedClassifierCV             0.34               0.25    None      0.21   \n",
      "DummyClassifier                    0.34               0.25    None      0.18   \n",
      "LabelPropagation                   0.19               0.25    None      0.06   \n",
      "LabelSpreading                     0.19               0.25    None      0.06   \n",
      "QuadraticDiscriminantAnalysis      0.25               0.24    None      0.25   \n",
      "\n",
      "                               Time Taken  \n",
      "Model                                      \n",
      "RandomForestClassifier               1.71  \n",
      "BaggingClassifier                    6.47  \n",
      "ExtraTreesClassifier                 1.39  \n",
      "XGBClassifier                        7.85  \n",
      "KNeighborsClassifier                 0.32  \n",
      "LGBMClassifier                       4.94  \n",
      "DecisionTreeClassifier               1.10  \n",
      "NuSVC                                4.37  \n",
      "AdaBoostClassifier                   6.66  \n",
      "SVC                                  5.08  \n",
      "PassiveAggressiveClassifier          2.40  \n",
      "LogisticRegression                   0.52  \n",
      "SGDClassifier                        0.94  \n",
      "NearestCentroid                      0.25  \n",
      "LinearSVC                            9.16  \n",
      "GaussianNB                           0.30  \n",
      "Perceptron                           0.90  \n",
      "BernoulliNB                          0.30  \n",
      "RidgeClassifier                      0.30  \n",
      "RidgeClassifierCV                    0.52  \n",
      "ExtraTreeClassifier                  0.25  \n",
      "LinearDiscriminantAnalysis           1.25  \n",
      "CalibratedClassifierCV              24.39  \n",
      "DummyClassifier                      0.20  \n",
      "LabelPropagation                     0.40  \n",
      "LabelSpreading                       0.42  \n",
      "QuadraticDiscriminantAnalysis        0.55  \n"
     ]
    },
    {
     "name": "stderr",
     "output_type": "stream",
     "text": [
      "\n"
     ]
    }
   ],
   "source": [
    "X_train, X_test, y_train, y_test = train_test_split(np.array(mldf), np.array(y),test_size=.3,random_state =123)\n",
    "\n",
    "clf = LazyClassifier(verbose=0,ignore_warnings=False, custom_metric=None)\n",
    "models,predictions = clf.fit(X_train, X_test, y_train, y_test)\n",
    "\n",
    "print(models)"
   ]
  },
  {
   "cell_type": "code",
   "execution_count": 419,
   "id": "676bb8d1",
   "metadata": {},
   "outputs": [],
   "source": [
    "mldf.to_csv('data/supervised_x_transform.csv',index=False)"
   ]
  },
  {
   "cell_type": "code",
   "execution_count": 420,
   "id": "2b8d0d5e",
   "metadata": {},
   "outputs": [],
   "source": [
    "y.to_csv('data/supervised_y_transform.csv',index=False)"
   ]
  },
  {
   "cell_type": "code",
   "execution_count": null,
   "id": "618694c1",
   "metadata": {},
   "outputs": [],
   "source": []
  },
  {
   "cell_type": "code",
   "execution_count": 341,
   "id": "fc18b04f",
   "metadata": {},
   "outputs": [
    {
     "data": {
      "text/plain": [
       "array([[-0.70710678, -1.06904497, 18.        , 68.        ],\n",
       "       [-0.70710678, -0.26726124, 92.        , 59.        ],\n",
       "       [ 1.41421356,  1.33630621, 98.        , 49.        ]])"
      ]
     },
     "execution_count": 341,
     "metadata": {},
     "output_type": "execute_result"
    }
   ],
   "source": [
    "import pandas as pd\n",
    "data = pd.DataFrame({'Name' : [3, 4,6], 'Age' : [18, 92,98], 'Weight' : [68, 59,49], 'Weight2' : [123, 123,214]})\n",
    "\n",
    "col_names = ['Name', 'Age', 'Weight','Weight2']\n",
    "features = data[col_names]\n",
    "\n",
    "from sklearn.compose import ColumnTransformer\n",
    "from sklearn.preprocessing import StandardScaler\n",
    "\n",
    "ct = ColumnTransformer([\n",
    "        ('somename', StandardScaler(), ['Weight2','Name'])\n",
    "    ], remainder='passthrough')\n",
    "\n",
    "ct.fit_transform(features)"
   ]
  },
  {
   "cell_type": "code",
   "execution_count": 342,
   "id": "bbd6b2a6",
   "metadata": {},
   "outputs": [
    {
     "data": {
      "text/html": [
       "<div>\n",
       "<style scoped>\n",
       "    .dataframe tbody tr th:only-of-type {\n",
       "        vertical-align: middle;\n",
       "    }\n",
       "\n",
       "    .dataframe tbody tr th {\n",
       "        vertical-align: top;\n",
       "    }\n",
       "\n",
       "    .dataframe thead th {\n",
       "        text-align: right;\n",
       "    }\n",
       "</style>\n",
       "<table border=\"1\" class=\"dataframe\">\n",
       "  <thead>\n",
       "    <tr style=\"text-align: right;\">\n",
       "      <th></th>\n",
       "      <th>Name</th>\n",
       "      <th>Age</th>\n",
       "      <th>Weight</th>\n",
       "      <th>Weight2</th>\n",
       "    </tr>\n",
       "  </thead>\n",
       "  <tbody>\n",
       "    <tr>\n",
       "      <th>0</th>\n",
       "      <td>3</td>\n",
       "      <td>18</td>\n",
       "      <td>68</td>\n",
       "      <td>123</td>\n",
       "    </tr>\n",
       "    <tr>\n",
       "      <th>1</th>\n",
       "      <td>4</td>\n",
       "      <td>92</td>\n",
       "      <td>59</td>\n",
       "      <td>123</td>\n",
       "    </tr>\n",
       "    <tr>\n",
       "      <th>2</th>\n",
       "      <td>6</td>\n",
       "      <td>98</td>\n",
       "      <td>49</td>\n",
       "      <td>214</td>\n",
       "    </tr>\n",
       "  </tbody>\n",
       "</table>\n",
       "</div>"
      ],
      "text/plain": [
       "   Name  Age  Weight  Weight2\n",
       "0     3   18      68      123\n",
       "1     4   92      59      123\n",
       "2     6   98      49      214"
      ]
     },
     "execution_count": 342,
     "metadata": {},
     "output_type": "execute_result"
    }
   ],
   "source": [
    "features"
   ]
  },
  {
   "cell_type": "code",
   "execution_count": null,
   "id": "a35ef95c",
   "metadata": {},
   "outputs": [],
   "source": []
  },
  {
   "cell_type": "code",
   "execution_count": null,
   "id": "12c61498",
   "metadata": {},
   "outputs": [],
   "source": []
  },
  {
   "cell_type": "code",
   "execution_count": 262,
   "id": "80e4d2b4",
   "metadata": {},
   "outputs": [],
   "source": [
    "# libraries & dataset\n",
    "import seaborn as sns\n",
    "import matplotlib.pyplot as plt\n",
    "# set a grey background (use sns.set_theme() if seaborn version 0.11.0 or above) \n",
    "sns.set(style=\"darkgrid\")"
   ]
  },
  {
   "cell_type": "code",
   "execution_count": 58,
   "id": "f084adb6",
   "metadata": {},
   "outputs": [
    {
     "data": {
      "text/plain": [
       "<AxesSubplot:xlabel='spy_trend_cci', ylabel='Count'>"
      ]
     },
     "execution_count": 58,
     "metadata": {},
     "output_type": "execute_result"
    },
    {
     "data": {
      "image/png": "[encoded data removed]",
      "text/plain": [
       "<Figure size 720x720 with 9 Axes>"
      ]
     },
     "metadata": {},
     "output_type": "display_data"
    }
   ],
   "source": [
    "fig, axs = plt.subplots(3, 3, figsize=(10, 10))\n",
    "\n",
    "sns.histplot(data=df, x=df.columns[0], kde=True, color=\"skyblue\", ax=axs[0, 0])\n",
    "sns.histplot(data=df, x=df.columns[1], kde=True, color=\"olive\", ax=axs[0, 1])\n",
    "sns.histplot(data=df, x=df.columns[2], kde=True, color=\"gold\", ax=axs[1, 0])\n",
    "sns.histplot(data=df, x=df.columns[3], kde=True, color=\"teal\", ax=axs[1, 1])\n",
    "sns.histplot(data=df, x=df.columns[4], kde=True, color=\"green\", ax=axs[0, 2])\n",
    "sns.histplot(data=df, x=df.columns[5], kde=True, color=\"red\", ax=axs[1, 2])\n",
    "sns.histplot(data=df, x=df.columns[6], kde=True, color=\"blue\", ax=axs[2, 0])\n",
    "sns.histplot(data=df, x=df.columns[7], kde=True, color=\"purple\", ax=axs[2, 1])\n",
    "sns.histplot(data=df, x=df.columns[8], kde=True, color=\"black\", ax=axs[2, 2])"
   ]
  },
  {
   "cell_type": "code",
   "execution_count": null,
   "id": "e51b6b2c",
   "metadata": {},
   "outputs": [],
   "source": []
  },
  {
   "cell_type": "code",
   "execution_count": null,
   "id": "6dc689c2",
   "metadata": {},
   "outputs": [],
   "source": []
  },
  {
   "cell_type": "code",
   "execution_count": null,
   "id": "b7abee4f",
   "metadata": {},
   "outputs": [],
   "source": []
  },
  {
   "cell_type": "code",
   "execution_count": 211,
   "id": "66ca14a4",
   "metadata": {},
   "outputs": [],
   "source": [
    "df1 = df.copy()"
   ]
  },
  {
   "cell_type": "code",
   "execution_count": 249,
   "id": "0f0e2a8a",
   "metadata": {},
   "outputs": [],
   "source": [
    "from sklearn.preprocessing import MinMaxScaler, StandardScaler\n",
    "\n",
    "\n",
    "#scaler = MinMaxScaler()\n",
    "#df1['Chicago_Fed_Fin_Conditions_Index'] = scaler.fit_transform(df['Chicago_Fed_Fin_Conditions_Index'].values.reshape(-1, 1))\n",
    "\n",
    "\n",
    "\n",
    "#df1['Real_PCE_YoY'] = np.log2(df['Real_PCE_YoY'])\n",
    "#df1['Initial_Claims'] = np.log2(df['Initial_Claims'])\n",
    "\n",
    "#df1['US_Real_Disposable_Income'] = np.log2(df['US_Real_Disposable_Income'])\n",
    "\n",
    "\n",
    "#X['spy_volume'] = np.log2(X['spy_volume'])\n",
    "\n",
    "\n",
    "#data['logarithm_base2'] = np.log2(data['Salary'])\n",
    "\n",
    "col = 'US_Personal_Savings_Rate'\n",
    "\n",
    "\n",
    "\n",
    "\n",
    "\n",
    "#USD_Daily_Return\n",
    "#Inflation Rate\n",
    "#10yr minus 2yr yield\n",
    "#Inversion Signal\n",
    "#US_Personal_Savings_Rate\n",
    "#US_Real_Disposable_Income\n",
    "#M2_and_Components\n",
    "#Job_Openings_Total_Nonfarm\n",
    "#St_Louis_Fed_Fin_Stress_Index\n",
    "#Chicago_Fed_Fin_Conditions_Index\n",
    "\n"
   ]
  },
  {
   "cell_type": "code",
   "execution_count": 250,
   "id": "e5da106b",
   "metadata": {},
   "outputs": [
    {
     "data": {
      "text/plain": [
       "<AxesSubplot:xlabel='US_Personal_Savings_Rate', ylabel='Count'>"
      ]
     },
     "execution_count": 250,
     "metadata": {},
     "output_type": "execute_result"
    },
    {
     "data": {
      "image/png": "[encoded data removed]",
      "text/plain": [
       "<Figure size 432x288 with 1 Axes>"
      ]
     },
     "metadata": {},
     "output_type": "display_data"
    }
   ],
   "source": [
    "\n",
    "\n",
    "sns.histplot(data=df, x=df[col], kde=True, color=\"skyblue\")"
   ]
  },
  {
   "cell_type": "code",
   "execution_count": 251,
   "id": "b2461848",
   "metadata": {},
   "outputs": [
    {
     "data": {
      "text/plain": [
       "<AxesSubplot:xlabel='US_Personal_Savings_Rate', ylabel='Count'>"
      ]
     },
     "execution_count": 251,
     "metadata": {},
     "output_type": "execute_result"
    },
    {
     "data": {
      "image/png": "[encoded data removed]",
      "text/plain": [
       "<Figure size 432x288 with 1 Axes>"
      ]
     },
     "metadata": {},
     "output_type": "display_data"
    }
   ],
   "source": [
    "sns.histplot(data=df1, x=df1[col], kde=True, color=\"skyblue\")"
   ]
  },
  {
   "cell_type": "code",
   "execution_count": 159,
   "id": "ba31be5a",
   "metadata": {},
   "outputs": [
    {
     "data": {
      "text/plain": [
       "<AxesSubplot:xlabel='spy_volume', ylabel='Count'>"
      ]
     },
     "execution_count": 159,
     "metadata": {},
     "output_type": "execute_result"
    },
    {
     "data": {
      "image/png": "[encoded data removed]",
      "text/plain": [
       "<Figure size 432x288 with 1 Axes>"
      ]
     },
     "metadata": {},
     "output_type": "display_data"
    }
   ],
   "source": [
    "sns.histplot(data=df, x=df.columns[2], kde=True, color=\"skyblue\")"
   ]
  },
  {
   "cell_type": "code",
   "execution_count": 141,
   "id": "0d05a70d",
   "metadata": {},
   "outputs": [
    {
     "data": {
      "text/plain": [
       "<AxesSubplot:xlabel='spy_volume', ylabel='Count'>"
      ]
     },
     "execution_count": 141,
     "metadata": {},
     "output_type": "execute_result"
    },
    {
     "data": {
      "image/png": "[encoded data removed]",
      "text/plain": [
       "<Figure size 432x288 with 1 Axes>"
      ]
     },
     "metadata": {},
     "output_type": "display_data"
    }
   ],
   "source": [
    "sns.histplot(data=df1, x=df1.columns[2], kde=True, color=\"skyblue\")"
   ]
  },
  {
   "cell_type": "code",
   "execution_count": 142,
   "id": "66080dd8",
   "metadata": {},
   "outputs": [
    {
     "data": {
      "text/plain": [
       "<AxesSubplot:xlabel='spy_oc_ret', ylabel='Count'>"
      ]
     },
     "execution_count": 142,
     "metadata": {},
     "output_type": "execute_result"
    },
    {
     "data": {
      "image/png": "[encoded data removed]",
      "text/plain": [
       "<Figure size 432x288 with 1 Axes>"
      ]
     },
     "metadata": {},
     "output_type": "display_data"
    }
   ],
   "source": [
    "sns.histplot(data=df, x=df.columns[0], kde=True, color=\"black\")"
   ]
  },
  {
   "cell_type": "code",
   "execution_count": 168,
   "id": "6f66fd14",
   "metadata": {},
   "outputs": [
    {
     "data": {
      "text/plain": [
       "<AxesSubplot:xlabel='target_2', ylabel='Count'>"
      ]
     },
     "execution_count": 168,
     "metadata": {},
     "output_type": "execute_result"
    },
    {
     "data": {
      "image/png": "[encoded data removed]",
      "text/plain": [
       "<Figure size 432x288 with 1 Axes>"
      ]
     },
     "metadata": {},
     "output_type": "display_data"
    }
   ],
   "source": [
    "sns.histplot(data=df, x=df.columns[137], kde=True, color=\"black\")"
   ]
  },
  {
   "cell_type": "code",
   "execution_count": 72,
   "id": "9f3c6cc4",
   "metadata": {},
   "outputs": [
    {
     "ename": "NameError",
     "evalue": "name 'spy_volatility_atr' is not defined",
     "output_type": "error",
     "traceback": [
      "\u001b[1;31m---------------------------------------------------------------------------\u001b[0m",
      "\u001b[1;31mNameError\u001b[0m                                 Traceback (most recent call last)",
      "Input \u001b[1;32mIn [72]\u001b[0m, in \u001b[0;36m<cell line: 1>\u001b[1;34m()\u001b[0m\n\u001b[1;32m----> 1\u001b[0m \u001b[43mspy_volatility_atr\u001b[49m\n",
      "\u001b[1;31mNameError\u001b[0m: name 'spy_volatility_atr' is not defined"
     ]
    }
   ],
   "source": []
  },
  {
   "cell_type": "code",
   "execution_count": null,
   "id": "656c3472",
   "metadata": {},
   "outputs": [],
   "source": [
    "\n",
    "'''\n",
    "spy_oc_ret\n",
    "spy_pco_ret\n",
    "spy_volume\n",
    "spy_volatility_atr\n",
    "spy_trend_ichimoku_conv\n",
    "spy_trend_ichimoku_base\n",
    "spy_trend_ichimoku_a\n",
    "spy_trend_ichimoku_b\n",
    "spy_trend_cci\n",
    "spy_momentum_rsi\n",
    "spy_trend_macd\n",
    "spy_trend_macd_signal\n",
    "spy_momentum_ppo\n",
    "spy_momentum_ppo_signal\n",
    "spy_bull\n",
    "spy_bear\n",
    "spy_neutral\n",
    "trade_date\n",
    "vix_oc_ret\n",
    "vix_pco_ret\n",
    "vix_prev_close\n",
    "vix_prev_open\n",
    "vix_close\n",
    "vix_bull\n",
    "vix_bear\n",
    "vix_neutral\n",
    "jnk_oc_ret\n",
    "jnk_pco_ret\n",
    "jnk_prev_close\n",
    "jnk_prev_open\n",
    "jnk_close\n",
    "jnk_bull\n",
    "jnk_bear\n",
    "jnk_neutral\n",
    "hyg_oc_ret\n",
    "hyg_pco_ret\n",
    "hyg_prev_close\n",
    "hyg_prev_open\n",
    "hyg_close\n",
    "hyg_bull\n",
    "hyg_bear\n",
    "hyg_neutral\n",
    "xle_oc_ret\n",
    "xle_pco_ret\n",
    "xle_prev_close\n",
    "xle_prev_open\n",
    "xle_close\n",
    "xle_bull\n",
    "xle_bear\n",
    "xle_neutral\n",
    "xlf_oc_ret\n",
    "xlf_pco_ret\n",
    "xlf_prev_close\n",
    "xlf_prev_open\n",
    "xlf_close\n",
    "xlf_bull\n",
    "xlf_bear\n",
    "xlf_neutral\n",
    "xlk_oc_ret\n",
    "xlk_pco_ret\n",
    "xlk_prev_close\n",
    "xlk_prev_open\n",
    "xlk_close\n",
    "xlk_bull\n",
    "xlk_bear\n",
    "xlk_neutral\n",
    "xlu_oc_ret\n",
    "xlu_pco_ret\n",
    "xlu_prev_close\n",
    "xlu_prev_open\n",
    "xlu_close\n",
    "xlu_bull\n",
    "xlu_bear\n",
    "xlu_neutral\n",
    "xlv_oc_ret\n",
    "xlv_pco_ret\n",
    "xlv_prev_close\n",
    "xlv_prev_open\n",
    "xlv_close\n",
    "xlv_bull\n",
    "xlv_bear\n",
    "xlv_neutral\n",
    "xli_oc_ret\n",
    "xli_pco_ret\n",
    "xli_prev_close\n",
    "xli_prev_open\n",
    "xli_close\n",
    "xli_bull\n",
    "xli_bear\n",
    "xli_neutral\n",
    "dia_oc_ret\n",
    "dia_pco_ret\n",
    "dia_prev_close\n",
    "dia_prev_open\n",
    "dia_close\n",
    "dia_bull\n",
    "dia_bear\n",
    "dia_neutral\n",
    "gld_oc_ret\n",
    "gld_pco_ret\n",
    "gld_prev_close\n",
    "gld_prev_open\n",
    "gld_close\n",
    "gld_bull\n",
    "gld_bear\n",
    "gld_neutral\n",
    "datecol\n",
    "week\n",
    "year\n",
    "month\n",
    "Real_PCE\n",
    "Real_PCE_YoY\n",
    "Initial_Claims\n",
    "Initial_Claims_YoY\n",
    "USD_Daily_Return\n",
    "Inflation Rate\n",
    "10yr minus 2yr yield\n",
    "Inversion Signal\n",
    "US_Personal_Savings_Rate\n",
    "US_Real_Disposable_Income\n",
    "M2_and_Components\n",
    "Job_Openings_Total_Nonfarm\n",
    "St_Louis_Fed_Fin_Stress_Index\n",
    "Chicago_Fed_Fin_Conditions_Index\n",
    "month1\n",
    "month2\n",
    "month3\n",
    "month4\n",
    "month5\n",
    "month6\n",
    "month7\n",
    "month8\n",
    "month9\n",
    "month10\n",
    "month11\n",
    "month12\n",
    "'''"
   ]
  }
 ],
 "metadata": {
  "kernelspec": {
   "display_name": "Python 3 (ipykernel)",
   "language": "python",
   "name": "python3"
  },
  "language_info": {
   "codemirror_mode": {
    "name": "ipython",
    "version": 3
   },
   "file_extension": ".py",
   "mimetype": "text/x-python",
   "name": "python",
   "nbconvert_exporter": "python",
   "pygments_lexer": "ipython3",
   "version": "3.8.12"
  }
 },
 "nbformat": 4,
 "nbformat_minor": 5
}
